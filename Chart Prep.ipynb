{
 "cells": [
  {
   "cell_type": "code",
   "execution_count": 1,
   "metadata": {},
   "outputs": [],
   "source": [
    "import pandas as pd\n",
    "import os\n",
    "from sklearn.metrics import mean_absolute_error\n",
    "from sklearn.metrics import mean_squared_error\n",
    "import matplotlib.pyplot as plt\n",
    "import pdb"
   ]
  },
  {
   "cell_type": "code",
   "execution_count": 2,
   "metadata": {},
   "outputs": [],
   "source": [
    "import seaborn as sns"
   ]
  },
  {
   "cell_type": "code",
   "execution_count": 3,
   "metadata": {},
   "outputs": [],
   "source": [
    "from matplotlib import __version__"
   ]
  },
  {
   "cell_type": "code",
   "execution_count": 4,
   "metadata": {},
   "outputs": [],
   "source": [
    "from neuralprophet import NeuralProphet"
   ]
  },
  {
   "cell_type": "code",
   "execution_count": 5,
   "metadata": {},
   "outputs": [],
   "source": [
    "data_dir = \"./data/\"\n",
    "dataset = './data/tuples/autovac/autovacon_ycsb_scale_50_worktime_3600_samplefreq_1_tsizeAnddeadtuple_pgconfig_delete_25_dead_tup_dtw.csv'"
   ]
  },
  {
   "cell_type": "code",
   "execution_count": 6,
   "metadata": {
    "pycharm": {
     "name": "#%%\n"
    }
   },
   "outputs": [],
   "source": [
    "df = pd.read_csv(dataset)"
   ]
  },
  {
   "cell_type": "code",
   "execution_count": 7,
   "metadata": {
    "scrolled": false
   },
   "outputs": [
    {
     "data": {
      "text/html": [
       "<div>\n",
       "<style scoped>\n",
       "    .dataframe tbody tr th:only-of-type {\n",
       "        vertical-align: middle;\n",
       "    }\n",
       "\n",
       "    .dataframe tbody tr th {\n",
       "        vertical-align: top;\n",
       "    }\n",
       "\n",
       "    .dataframe thead th {\n",
       "        text-align: right;\n",
       "    }\n",
       "</style>\n",
       "<table border=\"1\" class=\"dataframe\">\n",
       "  <thead>\n",
       "    <tr style=\"text-align: right;\">\n",
       "      <th></th>\n",
       "      <th>ds</th>\n",
       "      <th>table_name</th>\n",
       "      <th>pg_stat_get_live_tuples</th>\n",
       "      <th>pg_stat_get_dead_tuples</th>\n",
       "      <th>pg_table_size</th>\n",
       "      <th>relid</th>\n",
       "      <th>schemaname</th>\n",
       "      <th>relname</th>\n",
       "      <th>seq_scan</th>\n",
       "      <th>seq_tup_read</th>\n",
       "      <th>...</th>\n",
       "      <th>n_mod_since_analyze</th>\n",
       "      <th>n_ins_since_vacuum</th>\n",
       "      <th>last_vacuum</th>\n",
       "      <th>last_autovacuum</th>\n",
       "      <th>last_analyze</th>\n",
       "      <th>last_autoanalyze</th>\n",
       "      <th>vacuum_count</th>\n",
       "      <th>autovacuum_count</th>\n",
       "      <th>analyze_count</th>\n",
       "      <th>autoanalyze_count</th>\n",
       "    </tr>\n",
       "  </thead>\n",
       "  <tbody>\n",
       "    <tr>\n",
       "      <th>0</th>\n",
       "      <td>1.650448e+09</td>\n",
       "      <td>public.usertable</td>\n",
       "      <td>50000</td>\n",
       "      <td>0</td>\n",
       "      <td>58556416</td>\n",
       "      <td>16943</td>\n",
       "      <td>public</td>\n",
       "      <td>usertable</td>\n",
       "      <td>1</td>\n",
       "      <td>0</td>\n",
       "      <td>...</td>\n",
       "      <td>50000</td>\n",
       "      <td>50000</td>\n",
       "      <td>NaN</td>\n",
       "      <td>NaN</td>\n",
       "      <td>NaN</td>\n",
       "      <td>NaN</td>\n",
       "      <td>0</td>\n",
       "      <td>0</td>\n",
       "      <td>0</td>\n",
       "      <td>0</td>\n",
       "    </tr>\n",
       "    <tr>\n",
       "      <th>1</th>\n",
       "      <td>1.650448e+09</td>\n",
       "      <td>public.usertable</td>\n",
       "      <td>50000</td>\n",
       "      <td>0</td>\n",
       "      <td>58638336</td>\n",
       "      <td>16943</td>\n",
       "      <td>public</td>\n",
       "      <td>usertable</td>\n",
       "      <td>1</td>\n",
       "      <td>0</td>\n",
       "      <td>...</td>\n",
       "      <td>50000</td>\n",
       "      <td>50000</td>\n",
       "      <td>NaN</td>\n",
       "      <td>NaN</td>\n",
       "      <td>NaN</td>\n",
       "      <td>NaN</td>\n",
       "      <td>0</td>\n",
       "      <td>0</td>\n",
       "      <td>0</td>\n",
       "      <td>0</td>\n",
       "    </tr>\n",
       "    <tr>\n",
       "      <th>2</th>\n",
       "      <td>1.650448e+09</td>\n",
       "      <td>public.usertable</td>\n",
       "      <td>49963</td>\n",
       "      <td>398</td>\n",
       "      <td>59097088</td>\n",
       "      <td>16943</td>\n",
       "      <td>public</td>\n",
       "      <td>usertable</td>\n",
       "      <td>1</td>\n",
       "      <td>0</td>\n",
       "      <td>...</td>\n",
       "      <td>50530</td>\n",
       "      <td>50097</td>\n",
       "      <td>NaN</td>\n",
       "      <td>NaN</td>\n",
       "      <td>NaN</td>\n",
       "      <td>NaN</td>\n",
       "      <td>0</td>\n",
       "      <td>0</td>\n",
       "      <td>0</td>\n",
       "      <td>0</td>\n",
       "    </tr>\n",
       "    <tr>\n",
       "      <th>3</th>\n",
       "      <td>1.650448e+09</td>\n",
       "      <td>public.usertable</td>\n",
       "      <td>49923</td>\n",
       "      <td>894</td>\n",
       "      <td>59588608</td>\n",
       "      <td>16943</td>\n",
       "      <td>public</td>\n",
       "      <td>usertable</td>\n",
       "      <td>1</td>\n",
       "      <td>0</td>\n",
       "      <td>...</td>\n",
       "      <td>51207</td>\n",
       "      <td>50238</td>\n",
       "      <td>NaN</td>\n",
       "      <td>NaN</td>\n",
       "      <td>NaN</td>\n",
       "      <td>NaN</td>\n",
       "      <td>0</td>\n",
       "      <td>0</td>\n",
       "      <td>0</td>\n",
       "      <td>0</td>\n",
       "    </tr>\n",
       "    <tr>\n",
       "      <th>4</th>\n",
       "      <td>1.650448e+09</td>\n",
       "      <td>public.usertable</td>\n",
       "      <td>49894</td>\n",
       "      <td>1395</td>\n",
       "      <td>60112896</td>\n",
       "      <td>16943</td>\n",
       "      <td>public</td>\n",
       "      <td>usertable</td>\n",
       "      <td>1</td>\n",
       "      <td>0</td>\n",
       "      <td>...</td>\n",
       "      <td>51912</td>\n",
       "      <td>50396</td>\n",
       "      <td>NaN</td>\n",
       "      <td>NaN</td>\n",
       "      <td>NaN</td>\n",
       "      <td>NaN</td>\n",
       "      <td>0</td>\n",
       "      <td>0</td>\n",
       "      <td>0</td>\n",
       "      <td>0</td>\n",
       "    </tr>\n",
       "  </tbody>\n",
       "</table>\n",
       "<p>5 rows × 28 columns</p>\n",
       "</div>"
      ],
      "text/plain": [
       "             ds        table_name  pg_stat_get_live_tuples  \\\n",
       "0  1.650448e+09  public.usertable                    50000   \n",
       "1  1.650448e+09  public.usertable                    50000   \n",
       "2  1.650448e+09  public.usertable                    49963   \n",
       "3  1.650448e+09  public.usertable                    49923   \n",
       "4  1.650448e+09  public.usertable                    49894   \n",
       "\n",
       "   pg_stat_get_dead_tuples  pg_table_size  relid schemaname    relname  \\\n",
       "0                        0       58556416  16943     public  usertable   \n",
       "1                        0       58638336  16943     public  usertable   \n",
       "2                      398       59097088  16943     public  usertable   \n",
       "3                      894       59588608  16943     public  usertable   \n",
       "4                     1395       60112896  16943     public  usertable   \n",
       "\n",
       "   seq_scan  seq_tup_read  ...  n_mod_since_analyze  n_ins_since_vacuum  \\\n",
       "0         1             0  ...                50000               50000   \n",
       "1         1             0  ...                50000               50000   \n",
       "2         1             0  ...                50530               50097   \n",
       "3         1             0  ...                51207               50238   \n",
       "4         1             0  ...                51912               50396   \n",
       "\n",
       "   last_vacuum  last_autovacuum  last_analyze  last_autoanalyze  vacuum_count  \\\n",
       "0          NaN              NaN           NaN               NaN             0   \n",
       "1          NaN              NaN           NaN               NaN             0   \n",
       "2          NaN              NaN           NaN               NaN             0   \n",
       "3          NaN              NaN           NaN               NaN             0   \n",
       "4          NaN              NaN           NaN               NaN             0   \n",
       "\n",
       "   autovacuum_count  analyze_count  autoanalyze_count  \n",
       "0                 0              0                  0  \n",
       "1                 0              0                  0  \n",
       "2                 0              0                  0  \n",
       "3                 0              0                  0  \n",
       "4                 0              0                  0  \n",
       "\n",
       "[5 rows x 28 columns]"
      ]
     },
     "execution_count": 7,
     "metadata": {},
     "output_type": "execute_result"
    }
   ],
   "source": [
    "df.head()"
   ]
  },
  {
   "cell_type": "code",
   "execution_count": 37,
   "metadata": {},
   "outputs": [
    {
     "data": {
      "text/plain": [
       "Index(['ds', 'table_name', 'pg_stat_get_live_tuples',\n",
       "       'pg_stat_get_dead_tuples', 'pg_table_size', 'relid', 'schemaname',\n",
       "       'relname', 'seq_scan', 'seq_tup_read', 'idx_scan', 'idx_tup_fetch',\n",
       "       'n_tup_ins', 'n_tup_upd', 'n_tup_del', 'n_tup_hot_upd', 'n_live_tup',\n",
       "       'n_dead_tup', 'n_mod_since_analyze', 'n_ins_since_vacuum',\n",
       "       'last_vacuum', 'last_autovacuum', 'last_analyze', 'last_autoanalyze',\n",
       "       'vacuum_count', 'autovacuum_count', 'analyze_count',\n",
       "       'autoanalyze_count'],\n",
       "      dtype='object')"
      ]
     },
     "execution_count": 37,
     "metadata": {},
     "output_type": "execute_result"
    }
   ],
   "source": [
    "df.columns"
   ]
  },
  {
   "cell_type": "code",
   "execution_count": 8,
   "metadata": {},
   "outputs": [],
   "source": [
    "df['ds'] = df['ds']-df['ds'].min()\n",
    "df['ds'] = pd.to_datetime(df['ds'], unit='s').round('s')\n",
    "df['pg_table_size'] = df['pg_table_size']//(2<<10)"
   ]
  },
  {
   "cell_type": "code",
   "execution_count": 9,
   "metadata": {},
   "outputs": [],
   "source": [
    "def train_model(df, col, n_forecasts):\n",
    "    \n",
    "    m = NeuralProphet(n_lags=1, n_forecasts=10)\n",
    "    metrics = m.fit(df[:df.shape[0]], freq=\"s\")\n",
    "    return m"
   ]
  },
  {
   "cell_type": "code",
   "execution_count": 32,
   "metadata": {},
   "outputs": [],
   "source": [
    "def make_chart(df, col, table_name, n_forecasts):\n",
    "    df = df[df.table_name == table_name]\n",
    "    fdf = pd.DataFrame({'ds': df.ds, 'y': df[col]})\n",
    "    m = train_model(fdf, col, n_forecasts)\n",
    "    forecast = m.predict(fdf)\n",
    "    forecast = forecast[n_forecasts+1:fdf.shape[0]]\n",
    "#     fdf = fdf[n_forecasts+1:-n_forecasts-1]\n",
    "#     yhat = forecast['yhat'+str(n_forecasts)]\n",
    "    yhat = forecast['yhat'+str(n_forecasts)]\n",
    "    tensecpred = pd.concat([pd.DataFrame({'ds': fdf.ds, table_name: forecast['y'], 'data': 'actual'}), \n",
    "               pd.DataFrame({'ds': forecast.ds, table_name: yhat, 'data': str(n_forecasts)+'secondprediction'})])\n",
    "#     pdb.set_trace()\n",
    "    print('mae', mean_absolute_error(forecast['y'], yhat))\n",
    "    print('rmse', mean_squared_error(forecast['y'], yhat))\n",
    "#     return sns.lineplot(data=tensecpred.reset_index(), x='ds', y=table_name, hue='data')\n",
    "    return (tensecpred.reset_index(), mean_absolute_error(forecast['y'], yhat), mean_squared_error(forecast['y'], yhat), table_name, col, n_forecasts)"
   ]
  },
  {
   "cell_type": "code",
   "execution_count": 38,
   "metadata": {},
   "outputs": [
    {
     "name": "stderr",
     "output_type": "stream",
     "text": [
      "INFO - (NP.df_utils._infer_frequency) - Major frequency S corresponds to 97.344% of the data.\n",
      "INFO - (NP.df_utils._infer_frequency) - Defined frequency is equal to major frequency - s\n",
      "INFO - (NP.forecaster.__handle_missing_data) - 95 missing dates added.\n",
      "INFO - (NP.forecaster.__handle_missing_data) - 95 NaN values in column y were auto-imputed.\n",
      "INFO - (NP.config.init_data_params) - Setting normalization to global as only one dataframe provided for training.\n",
      "INFO - (NP.utils.set_auto_seasonalities) - Disabling yearly seasonality. Run NeuralProphet with yearly_seasonality=True to override this.\n",
      "INFO - (NP.utils.set_auto_seasonalities) - Disabling weekly seasonality. Run NeuralProphet with weekly_seasonality=True to override this.\n",
      "INFO - (NP.utils.set_auto_seasonalities) - Disabling daily seasonality. Run NeuralProphet with daily_seasonality=True to override this.\n",
      "INFO - (NP.config.set_auto_batch_epoch) - Auto-set batch_size to 32\n",
      "INFO - (NP.config.set_auto_batch_epoch) - Auto-set epochs to 133\n"
     ]
    },
    {
     "data": {
      "application/vnd.jupyter.widget-view+json": {
       "model_id": "63b2d0e36c8140a79e2d0b77077d71c8",
       "version_major": 2,
       "version_minor": 0
      },
      "text/plain": [
       "  0%|          | 0/139 [00:00<?, ?it/s]"
      ]
     },
     "metadata": {},
     "output_type": "display_data"
    },
    {
     "name": "stderr",
     "output_type": "stream",
     "text": [
      "INFO - (NP.utils_torch.lr_range_test) - lr-range-test results: steep: 2.46E-01, min: 2.72E+00\n"
     ]
    },
    {
     "data": {
      "application/vnd.jupyter.widget-view+json": {
       "model_id": "a32e0ded6c854f94ad71f1937ef3be24",
       "version_major": 2,
       "version_minor": 0
      },
      "text/plain": [
       "  0%|          | 0/139 [00:00<?, ?it/s]"
      ]
     },
     "metadata": {},
     "output_type": "display_data"
    },
    {
     "name": "stderr",
     "output_type": "stream",
     "text": [
      "INFO - (NP.utils_torch.lr_range_test) - lr-range-test results: steep: 2.46E-01, min: 2.72E+00\n",
      "INFO - (NP.forecaster._init_train_loader) - lr-range-test selected learning rate: 1.82E-01\n",
      "Epoch[133/133]: 100%|██████████| 133/133 [00:25<00:00,  5.23it/s, SmoothL1Loss=7.34e-7, MAE=521, RMSE=815, RegLoss=0]        \n",
      "INFO - (NP.df_utils._infer_frequency) - Major frequency S corresponds to 97.344% of the data.\n",
      "INFO - (NP.df_utils._infer_frequency) - Defined frequency is equal to major frequency - s\n",
      "INFO - (NP.df_utils._infer_frequency) - Major frequency S corresponds to 97.352% of the data.\n",
      "INFO - (NP.df_utils._infer_frequency) - Defined frequency is equal to major frequency - s\n",
      "INFO - (NP.forecaster.__handle_missing_data) - 95 missing dates added.\n",
      "INFO - (NP.forecaster.__handle_missing_data) - 95 NaN values in column y were auto-imputed.\n",
      "INFO - (NP.df_utils._infer_frequency) - Major frequency S corresponds to 97.344% of the data.\n",
      "INFO - (NP.df_utils._infer_frequency) - Defined frequency is equal to major frequency - s\n",
      "INFO - (NP.forecaster.__handle_missing_data) - 95 missing dates added.\n",
      "INFO - (NP.forecaster.__handle_missing_data) - 95 NaN values in column y were auto-imputed.\n",
      "INFO - (NP.config.init_data_params) - Setting normalization to global as only one dataframe provided for training.\n",
      "INFO - (NP.utils.set_auto_seasonalities) - Disabling yearly seasonality. Run NeuralProphet with yearly_seasonality=True to override this.\n",
      "INFO - (NP.utils.set_auto_seasonalities) - Disabling weekly seasonality. Run NeuralProphet with weekly_seasonality=True to override this.\n",
      "INFO - (NP.utils.set_auto_seasonalities) - Disabling daily seasonality. Run NeuralProphet with daily_seasonality=True to override this.\n",
      "INFO - (NP.config.set_auto_batch_epoch) - Auto-set batch_size to 32\n",
      "INFO - (NP.config.set_auto_batch_epoch) - Auto-set epochs to 133\n"
     ]
    },
    {
     "data": {
      "application/vnd.jupyter.widget-view+json": {
       "model_id": "97e11c9a94604d1aa6042025b50c4f40",
       "version_major": 2,
       "version_minor": 0
      },
      "text/plain": [
       "  0%|          | 0/139 [00:00<?, ?it/s]"
      ]
     },
     "metadata": {},
     "output_type": "display_data"
    },
    {
     "name": "stdout",
     "output_type": "stream",
     "text": [
      "mae 535.2048293779482\n",
      "rmse 520322.5917744092\n"
     ]
    },
    {
     "name": "stderr",
     "output_type": "stream",
     "text": [
      "INFO - (NP.utils_torch.lr_range_test) - lr-range-test results: steep: 2.34E+00, min: 7.41E-02\n"
     ]
    },
    {
     "data": {
      "application/vnd.jupyter.widget-view+json": {
       "model_id": "efc3c5a3e25b462c8e8b496848d6761b",
       "version_major": 2,
       "version_minor": 0
      },
      "text/plain": [
       "  0%|          | 0/139 [00:00<?, ?it/s]"
      ]
     },
     "metadata": {},
     "output_type": "display_data"
    },
    {
     "name": "stderr",
     "output_type": "stream",
     "text": [
      "INFO - (NP.utils_torch.lr_range_test) - lr-range-test results: steep: 7.04E-01, min: 7.41E-02\n",
      "INFO - (NP.forecaster._init_train_loader) - lr-range-test selected learning rate: 5.48E-01\n",
      "Epoch[133/133]: 100%|██████████| 133/133 [00:27<00:00,  4.88it/s, SmoothL1Loss=0.0104, MAE=501, RMSE=1.23e+3, RegLoss=0]  \n",
      "INFO - (NP.df_utils._infer_frequency) - Major frequency S corresponds to 97.344% of the data.\n",
      "INFO - (NP.df_utils._infer_frequency) - Defined frequency is equal to major frequency - s\n",
      "INFO - (NP.df_utils._infer_frequency) - Major frequency S corresponds to 97.352% of the data.\n",
      "INFO - (NP.df_utils._infer_frequency) - Defined frequency is equal to major frequency - s\n",
      "INFO - (NP.forecaster.__handle_missing_data) - 95 missing dates added.\n",
      "INFO - (NP.forecaster.__handle_missing_data) - 95 NaN values in column y were auto-imputed.\n"
     ]
    },
    {
     "name": "stdout",
     "output_type": "stream",
     "text": [
      "mae 797.0292615943426\n",
      "rmse 3594612.9221694297\n"
     ]
    }
   ],
   "source": [
    "predictions = []\n",
    "for col in ('pg_table_size', 'n_dead_tup'):\n",
    "    for i, tab in enumerate(df.table_name.unique()):\n",
    "        dat = make_chart(df, col, tab, 10)\n",
    "        predictions.append(dat)"
   ]
  },
  {
   "cell_type": "code",
   "execution_count": 45,
   "metadata": {},
   "outputs": [],
   "source": [
    "def make_plot(predictions):\n",
    "    dat, mae, mse, table_name, col, n_forecasts  = predictions\n",
    "    print('mae', mae, 'mse', mse, table_name, col, 'forecast period (s)', n_forecasts)\n",
    "    return sns.lineplot(data=dat, x='ds', y=table_name, hue='data')"
   ]
  },
  {
   "cell_type": "code",
   "execution_count": 46,
   "metadata": {},
   "outputs": [
    {
     "name": "stdout",
     "output_type": "stream",
     "text": [
      "mae 535.2048293779482 mse 520322.5917744092 public.usertable pg_table_size forecast period (s) 10\n",
      "mae 797.0292615943426 mse 3594612.9221694297 public.usertable n_dead_tup forecast period (s) 10\n"
     ]
    },
    {
     "data": {
      "image/png": "[encoded data removed]",
      "text/plain": [
       "<Figure size 432x288 with 1 Axes>"
      ]
     },
     "metadata": {
      "needs_background": "light"
     },
     "output_type": "display_data"
    },
    {
     "data": {
      "image/png": "[encoded data removed]",
      "text/plain": [
       "<Figure size 432x288 with 1 Axes>"
      ]
     },
     "metadata": {
      "needs_background": "light"
     },
     "output_type": "display_data"
    }
   ],
   "source": [
    "for i in range(len(predictions)):\n",
    "    plt.figure()\n",
    "    make_plot(predictions[i])"
   ]
  },
  {
   "cell_type": "code",
   "execution_count": null,
   "metadata": {},
   "outputs": [],
   "source": []
  }
 ],
 "metadata": {
  "kernelspec": {
   "display_name": "Python 3",
   "language": "python",
   "name": "python3"
  },
  "language_info": {
   "codemirror_mode": {
    "name": "ipython",
    "version": 3
   },
   "file_extension": ".py",
   "mimetype": "text/x-python",
   "name": "python",
   "nbconvert_exporter": "python",
   "pygments_lexer": "ipython3",
   "version": "3.8.12"
  }
 },
 "nbformat": 4,
 "nbformat_minor": 1
}
