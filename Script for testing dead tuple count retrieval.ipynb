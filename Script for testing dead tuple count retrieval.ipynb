{
 "cells": [
  {
   "cell_type": "code",
   "execution_count": 3,
   "id": "4451e734",
   "metadata": {},
   "outputs": [],
   "source": [
    "from distutils.command.config import config\n",
    "import psycopg2\n",
    "import csv\n",
    "import time\n",
    "import subprocess\n",
    "import sys\n"
   ]
  },
  {
   "cell_type": "code",
   "execution_count": 213,
   "id": "3f6f676d",
   "metadata": {},
   "outputs": [
    {
     "name": "stdout",
     "output_type": "stream",
     "text": [
      "[('public.usertable', 100802, 1469, 119783424, 16528, 'public', 'usertable', 1, 0, 4430, 64662, 101613, 694, 811, 115, 100802, 1469, 103118, 101613, None, None, None, None, 0, 0, 0, 0)]\n"
     ]
    }
   ],
   "source": [
    "table_growth_query = \"\"\"\n",
    "  SELECT ut.schemaname || '.' || ut.relname AS table_name,\n",
    "        pg_stat_get_live_tuples(ut.relid), pg_stat_get_dead_tuples(ut.relid),\n",
    "       pg_table_size(ut.schemaname || '.' || ut.relname),\n",
    "       ut.*\n",
    "  FROM pg_stat_user_tables AS ut\n",
    "  ORDER BY table_name;\n",
    "\"\"\"\n",
    "conn = psycopg2.connect(database=\"benchbase\", user=\"project1user\", password=\"project1pass\", host=\"localhost\",\n",
    "                                        port=\"5432\")\n",
    "cur = conn.cursor()\n",
    "cur.execute(table_growth_query)\n",
    "print(cur.fetchall())\n",
    "# cur.close()\n",
    "# conn.close()"
   ]
  },
  {
   "cell_type": "code",
   "execution_count": 230,
   "id": "53d2e11f",
   "metadata": {},
   "outputs": [
    {
     "name": "stdout",
     "output_type": "stream",
     "text": [
      "[('public.usertable', 100802, 1469, 122494976, 16528, 'public', 'usertable', 1, 0, 4430, 64662, 101613, 694, 811, 115, 100802, 1469, 103118, 101613, None, None, None, None, 0, 0, 0, 0)]\n"
     ]
    }
   ],
   "source": [
    "cur = conn.cursor()\n",
    "cur.execute(table_growth_query)\n",
    "print(cur.fetchall())\n",
    "cur.close()"
   ]
  }
 ],
 "metadata": {
  "kernelspec": {
   "display_name": "Python 3",
   "language": "python",
   "name": "python3"
  },
  "language_info": {
   "codemirror_mode": {
    "name": "ipython",
    "version": 3
   },
   "file_extension": ".py",
   "mimetype": "text/x-python",
   "name": "python",
   "nbconvert_exporter": "python",
   "pygments_lexer": "ipython3",
   "version": "3.8.12"
  }
 },
 "nbformat": 4,
 "nbformat_minor": 5
}
