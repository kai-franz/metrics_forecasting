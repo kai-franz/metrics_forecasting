{
 "cells": [
  {
   "cell_type": "code",
   "execution_count": 1,
   "metadata": {},
   "outputs": [],
   "source": [
    "import pandas as pd\n",
    "import os"
   ]
  },
  {
   "cell_type": "code",
   "execution_count": 2,
   "metadata": {},
   "outputs": [],
   "source": [
    "import seaborn as sns"
   ]
  },
  {
   "cell_type": "code",
   "execution_count": 3,
   "metadata": {},
   "outputs": [],
   "source": [
    "from matplotlib import __version__"
   ]
  },
  {
   "cell_type": "code",
   "execution_count": 4,
   "metadata": {},
   "outputs": [
    {
     "data": {
      "text/plain": [
       "'3.4.3'"
      ]
     },
     "execution_count": 4,
     "metadata": {},
     "output_type": "execute_result"
    }
   ],
   "source": [
    "__version__"
   ]
  },
  {
   "cell_type": "code",
   "execution_count": 5,
   "metadata": {},
   "outputs": [],
   "source": [
    "from neuralprophet import NeuralProphet"
   ]
  },
  {
   "cell_type": "code",
   "execution_count": 28,
   "metadata": {},
   "outputs": [],
   "source": [
    "data_dir = \"./data/\"\n",
    "dataset = './data/tuples/noautovac/noautovac_ycsb_scale_50_worktime_3600_samplefreq_1_tsizeAnddeadtuple_pgconfig_delete_25_dead_tup_dtw.csv'"
   ]
  },
  {
   "cell_type": "code",
   "execution_count": 29,
   "metadata": {
    "pycharm": {
     "name": "#%%\n"
    }
   },
   "outputs": [],
   "source": [
    "df = pd.read_csv(dataset)"
   ]
  },
  {
   "cell_type": "code",
   "execution_count": 30,
   "metadata": {
    "scrolled": true
   },
   "outputs": [
    {
     "data": {
      "text/html": [
       "<div>\n",
       "<style scoped>\n",
       "    .dataframe tbody tr th:only-of-type {\n",
       "        vertical-align: middle;\n",
       "    }\n",
       "\n",
       "    .dataframe tbody tr th {\n",
       "        vertical-align: top;\n",
       "    }\n",
       "\n",
       "    .dataframe thead th {\n",
       "        text-align: right;\n",
       "    }\n",
       "</style>\n",
       "<table border=\"1\" class=\"dataframe\">\n",
       "  <thead>\n",
       "    <tr style=\"text-align: right;\">\n",
       "      <th></th>\n",
       "      <th>ds</th>\n",
       "      <th>table_name</th>\n",
       "      <th>pg_stat_get_live_tuples</th>\n",
       "      <th>pg_stat_get_dead_tuples</th>\n",
       "      <th>pg_table_size</th>\n",
       "      <th>relid</th>\n",
       "      <th>schemaname</th>\n",
       "      <th>relname</th>\n",
       "      <th>seq_scan</th>\n",
       "      <th>seq_tup_read</th>\n",
       "      <th>...</th>\n",
       "      <th>n_mod_since_analyze</th>\n",
       "      <th>n_ins_since_vacuum</th>\n",
       "      <th>last_vacuum</th>\n",
       "      <th>last_autovacuum</th>\n",
       "      <th>last_analyze</th>\n",
       "      <th>last_autoanalyze</th>\n",
       "      <th>vacuum_count</th>\n",
       "      <th>autovacuum_count</th>\n",
       "      <th>analyze_count</th>\n",
       "      <th>autoanalyze_count</th>\n",
       "    </tr>\n",
       "  </thead>\n",
       "  <tbody>\n",
       "    <tr>\n",
       "      <th>0</th>\n",
       "      <td>1.650440e+09</td>\n",
       "      <td>public.usertable</td>\n",
       "      <td>50000</td>\n",
       "      <td>0</td>\n",
       "      <td>58556416</td>\n",
       "      <td>16782</td>\n",
       "      <td>public</td>\n",
       "      <td>usertable</td>\n",
       "      <td>1</td>\n",
       "      <td>0</td>\n",
       "      <td>...</td>\n",
       "      <td>50000</td>\n",
       "      <td>50000</td>\n",
       "      <td>NaN</td>\n",
       "      <td>NaN</td>\n",
       "      <td>NaN</td>\n",
       "      <td>NaN</td>\n",
       "      <td>0</td>\n",
       "      <td>0</td>\n",
       "      <td>0</td>\n",
       "      <td>0</td>\n",
       "    </tr>\n",
       "    <tr>\n",
       "      <th>1</th>\n",
       "      <td>1.650440e+09</td>\n",
       "      <td>public.usertable</td>\n",
       "      <td>50000</td>\n",
       "      <td>0</td>\n",
       "      <td>58613760</td>\n",
       "      <td>16782</td>\n",
       "      <td>public</td>\n",
       "      <td>usertable</td>\n",
       "      <td>1</td>\n",
       "      <td>0</td>\n",
       "      <td>...</td>\n",
       "      <td>50000</td>\n",
       "      <td>50000</td>\n",
       "      <td>NaN</td>\n",
       "      <td>NaN</td>\n",
       "      <td>NaN</td>\n",
       "      <td>NaN</td>\n",
       "      <td>0</td>\n",
       "      <td>0</td>\n",
       "      <td>0</td>\n",
       "      <td>0</td>\n",
       "    </tr>\n",
       "    <tr>\n",
       "      <th>2</th>\n",
       "      <td>1.650440e+09</td>\n",
       "      <td>public.usertable</td>\n",
       "      <td>50064</td>\n",
       "      <td>149</td>\n",
       "      <td>58834944</td>\n",
       "      <td>16782</td>\n",
       "      <td>public</td>\n",
       "      <td>usertable</td>\n",
       "      <td>1</td>\n",
       "      <td>0</td>\n",
       "      <td>...</td>\n",
       "      <td>50290</td>\n",
       "      <td>50139</td>\n",
       "      <td>NaN</td>\n",
       "      <td>NaN</td>\n",
       "      <td>NaN</td>\n",
       "      <td>NaN</td>\n",
       "      <td>0</td>\n",
       "      <td>0</td>\n",
       "      <td>0</td>\n",
       "      <td>0</td>\n",
       "    </tr>\n",
       "    <tr>\n",
       "      <th>3</th>\n",
       "      <td>1.650440e+09</td>\n",
       "      <td>public.usertable</td>\n",
       "      <td>50130</td>\n",
       "      <td>290</td>\n",
       "      <td>59129856</td>\n",
       "      <td>16782</td>\n",
       "      <td>public</td>\n",
       "      <td>usertable</td>\n",
       "      <td>1</td>\n",
       "      <td>0</td>\n",
       "      <td>...</td>\n",
       "      <td>50596</td>\n",
       "      <td>50302</td>\n",
       "      <td>NaN</td>\n",
       "      <td>NaN</td>\n",
       "      <td>NaN</td>\n",
       "      <td>NaN</td>\n",
       "      <td>0</td>\n",
       "      <td>0</td>\n",
       "      <td>0</td>\n",
       "      <td>0</td>\n",
       "    </tr>\n",
       "    <tr>\n",
       "      <th>4</th>\n",
       "      <td>1.650440e+09</td>\n",
       "      <td>public.usertable</td>\n",
       "      <td>50226</td>\n",
       "      <td>482</td>\n",
       "      <td>59482112</td>\n",
       "      <td>16782</td>\n",
       "      <td>public</td>\n",
       "      <td>usertable</td>\n",
       "      <td>1</td>\n",
       "      <td>0</td>\n",
       "      <td>...</td>\n",
       "      <td>51001</td>\n",
       "      <td>50507</td>\n",
       "      <td>NaN</td>\n",
       "      <td>NaN</td>\n",
       "      <td>NaN</td>\n",
       "      <td>NaN</td>\n",
       "      <td>0</td>\n",
       "      <td>0</td>\n",
       "      <td>0</td>\n",
       "      <td>0</td>\n",
       "    </tr>\n",
       "  </tbody>\n",
       "</table>\n",
       "<p>5 rows × 28 columns</p>\n",
       "</div>"
      ],
      "text/plain": [
       "             ds        table_name  pg_stat_get_live_tuples  \\\n",
       "0  1.650440e+09  public.usertable                    50000   \n",
       "1  1.650440e+09  public.usertable                    50000   \n",
       "2  1.650440e+09  public.usertable                    50064   \n",
       "3  1.650440e+09  public.usertable                    50130   \n",
       "4  1.650440e+09  public.usertable                    50226   \n",
       "\n",
       "   pg_stat_get_dead_tuples  pg_table_size  relid schemaname    relname  \\\n",
       "0                        0       58556416  16782     public  usertable   \n",
       "1                        0       58613760  16782     public  usertable   \n",
       "2                      149       58834944  16782     public  usertable   \n",
       "3                      290       59129856  16782     public  usertable   \n",
       "4                      482       59482112  16782     public  usertable   \n",
       "\n",
       "   seq_scan  seq_tup_read  ...  n_mod_since_analyze  n_ins_since_vacuum  \\\n",
       "0         1             0  ...                50000               50000   \n",
       "1         1             0  ...                50000               50000   \n",
       "2         1             0  ...                50290               50139   \n",
       "3         1             0  ...                50596               50302   \n",
       "4         1             0  ...                51001               50507   \n",
       "\n",
       "   last_vacuum  last_autovacuum  last_analyze  last_autoanalyze  vacuum_count  \\\n",
       "0          NaN              NaN           NaN               NaN             0   \n",
       "1          NaN              NaN           NaN               NaN             0   \n",
       "2          NaN              NaN           NaN               NaN             0   \n",
       "3          NaN              NaN           NaN               NaN             0   \n",
       "4          NaN              NaN           NaN               NaN             0   \n",
       "\n",
       "   autovacuum_count  analyze_count  autoanalyze_count  \n",
       "0                 0              0                  0  \n",
       "1                 0              0                  0  \n",
       "2                 0              0                  0  \n",
       "3                 0              0                  0  \n",
       "4                 0              0                  0  \n",
       "\n",
       "[5 rows x 28 columns]"
      ]
     },
     "execution_count": 30,
     "metadata": {},
     "output_type": "execute_result"
    }
   ],
   "source": [
    "df.head()"
   ]
  },
  {
   "cell_type": "code",
   "execution_count": 31,
   "metadata": {},
   "outputs": [
    {
     "data": {
      "text/plain": [
       "array(['public.usertable'], dtype=object)"
      ]
     },
     "execution_count": 31,
     "metadata": {},
     "output_type": "execute_result"
    }
   ],
   "source": [
    "df.table_name.unique()"
   ]
  },
  {
   "cell_type": "code",
   "execution_count": 32,
   "metadata": {},
   "outputs": [
    {
     "data": {
      "text/plain": [
       "Index(['ds', 'table_name', 'pg_stat_get_live_tuples',\n",
       "       'pg_stat_get_dead_tuples', 'pg_table_size', 'relid', 'schemaname',\n",
       "       'relname', 'seq_scan', 'seq_tup_read', 'idx_scan', 'idx_tup_fetch',\n",
       "       'n_tup_ins', 'n_tup_upd', 'n_tup_del', 'n_tup_hot_upd', 'n_live_tup',\n",
       "       'n_dead_tup', 'n_mod_since_analyze', 'n_ins_since_vacuum',\n",
       "       'last_vacuum', 'last_autovacuum', 'last_analyze', 'last_autoanalyze',\n",
       "       'vacuum_count', 'autovacuum_count', 'analyze_count',\n",
       "       'autoanalyze_count'],\n",
       "      dtype='object')"
      ]
     },
     "execution_count": 32,
     "metadata": {},
     "output_type": "execute_result"
    }
   ],
   "source": [
    "df.columns"
   ]
  },
  {
   "cell_type": "code",
   "execution_count": 33,
   "metadata": {},
   "outputs": [],
   "source": [
    "df['ds'] = df['ds']-df['ds'].min()\n",
    "df['ds'] = pd.to_datetime(df['ds'], unit='s').round('s')\n",
    "df['pg_table_size'] = df['pg_table_size']//(2<<10)"
   ]
  },
  {
   "cell_type": "code",
   "execution_count": 34,
   "metadata": {},
   "outputs": [],
   "source": [
    "def plot_growth(df, col):\n",
    "    return sns.lineplot(data=df, x='ds', y=col, hue='table_name')"
   ]
  },
  {
   "cell_type": "code",
   "execution_count": 35,
   "metadata": {},
   "outputs": [
    {
     "data": {
      "text/plain": [
       "<AxesSubplot:xlabel='ds', ylabel='n_dead_tup'>"
      ]
     },
     "execution_count": 35,
     "metadata": {},
     "output_type": "execute_result"
    },
    {
     "data": {
      "image/png": "[encoded data removed]",
      "text/plain": [
       "<Figure size 432x288 with 1 Axes>"
      ]
     },
     "metadata": {
      "needs_background": "light"
     },
     "output_type": "display_data"
    }
   ],
   "source": [
    "# g = sns.FacetGrid(df, row='table_name', sharey=False)\n",
    "# g.map(sns.lineplot, \"ds\", \"n_dead_tup\")\n",
    "sns.lineplot(data=df, x='ds', y='n_dead_tup', hue='table_name')"
   ]
  },
  {
   "cell_type": "code",
   "execution_count": 38,
   "metadata": {},
   "outputs": [],
   "source": [
    "def make_predictions(df, col):\n",
    "    fdf = pd.DataFrame({'ds': df.ds.round('s'), 'y': df[col] - df[col].min()})\n",
    "    m = NeuralProphet()\n",
    "    metrics = m.fit(fdf[:fdf.shape[0]//2], freq=\"s\")\n",
    "    return m, fdf"
   ]
  },
  {
   "cell_type": "code",
   "execution_count": 41,
   "metadata": {},
   "outputs": [
    {
     "name": "stderr",
     "output_type": "stream",
     "text": [
      "INFO - (NP.df_utils._infer_frequency) - Major frequency S corresponds to 96.934% of the data.\n",
      "INFO - (NP.df_utils._infer_frequency) - Defined frequency is equal to major frequency - s\n",
      "INFO - (NP.config.init_data_params) - Setting normalization to global as only one dataframe provided for training.\n",
      "INFO - (NP.utils.set_auto_seasonalities) - Disabling yearly seasonality. Run NeuralProphet with yearly_seasonality=True to override this.\n",
      "INFO - (NP.utils.set_auto_seasonalities) - Disabling weekly seasonality. Run NeuralProphet with weekly_seasonality=True to override this.\n",
      "INFO - (NP.utils.set_auto_seasonalities) - Disabling daily seasonality. Run NeuralProphet with daily_seasonality=True to override this.\n",
      "INFO - (NP.config.set_auto_batch_epoch) - Auto-set batch_size to 32\n",
      "INFO - (NP.config.set_auto_batch_epoch) - Auto-set epochs to 164\n"
     ]
    },
    {
     "data": {
      "application/vnd.jupyter.widget-view+json": {
       "model_id": "fb20e82df54a49c788ab9b03e5507331",
       "version_major": 2,
       "version_minor": 0
      },
      "text/plain": [
       "  0%|          | 0/131 [00:00<?, ?it/s]"
      ]
     },
     "metadata": {},
     "output_type": "display_data"
    },
    {
     "name": "stderr",
     "output_type": "stream",
     "text": [
      "INFO - (NP.utils_torch.lr_range_test) - lr-range-test results: steep: 1.86E+00, min: 7.67E-02\n"
     ]
    },
    {
     "data": {
      "application/vnd.jupyter.widget-view+json": {
       "model_id": "04e8ae0c77d64181b98b009e02a13ef8",
       "version_major": 2,
       "version_minor": 0
      },
      "text/plain": [
       "  0%|          | 0/131 [00:00<?, ?it/s]"
      ]
     },
     "metadata": {},
     "output_type": "display_data"
    },
    {
     "name": "stderr",
     "output_type": "stream",
     "text": [
      "INFO - (NP.utils_torch.lr_range_test) - lr-range-test results: steep: 6.09E-01, min: 8.99E-02\n",
      "INFO - (NP.forecaster._init_train_loader) - lr-range-test selected learning rate: 4.84E-01\n",
      "Epoch[164/164]: 100%|██████████| 164/164 [00:13<00:00, 12.03it/s, SmoothL1Loss=2.07e-6, MAE=82.1, RMSE=128, RegLoss=0]      \n"
     ]
    }
   ],
   "source": [
    "m, fdf = make_predictions(df, 'n_dead_tup')"
   ]
  },
  {
   "cell_type": "code",
   "execution_count": 43,
   "metadata": {},
   "outputs": [
    {
     "name": "stderr",
     "output_type": "stream",
     "text": [
      "INFO - (NP.df_utils._infer_frequency) - Major frequency S corresponds to 96.963% of the data.\n",
      "INFO - (NP.df_utils._infer_frequency) - Defined frequency is equal to major frequency - s\n",
      "INFO - (NP.df_utils._infer_frequency) - Major frequency S corresponds to 96.963% of the data.\n",
      "INFO - (NP.df_utils._infer_frequency) - Defined frequency is equal to major frequency - s\n"
     ]
    },
    {
     "data": {
      "text/plain": [
       "<AxesSubplot:>"
      ]
     },
     "execution_count": 43,
     "metadata": {},
     "output_type": "execute_result"
    },
    {
     "data": {
      "image/png": "[encoded data removed]",
      "text/plain": [
       "<Figure size 432x288 with 1 Axes>"
      ]
     },
     "metadata": {
      "needs_background": "light"
     },
     "output_type": "display_data"
    }
   ],
   "source": [
    "forecast = m.predict(fdf)\n",
    "forecast.plot()"
   ]
  },
  {
   "cell_type": "code",
   "execution_count": 44,
   "metadata": {},
   "outputs": [
    {
     "name": "stderr",
     "output_type": "stream",
     "text": [
      "INFO - (NP.df_utils._infer_frequency) - Major frequency S corresponds to 96.934% of the data.\n",
      "INFO - (NP.df_utils._infer_frequency) - Defined frequency is equal to major frequency - s\n",
      "INFO - (NP.config.init_data_params) - Setting normalization to global as only one dataframe provided for training.\n",
      "INFO - (NP.utils.set_auto_seasonalities) - Disabling yearly seasonality. Run NeuralProphet with yearly_seasonality=True to override this.\n",
      "INFO - (NP.utils.set_auto_seasonalities) - Disabling weekly seasonality. Run NeuralProphet with weekly_seasonality=True to override this.\n",
      "INFO - (NP.utils.set_auto_seasonalities) - Disabling daily seasonality. Run NeuralProphet with daily_seasonality=True to override this.\n",
      "INFO - (NP.config.set_auto_batch_epoch) - Auto-set batch_size to 32\n",
      "INFO - (NP.config.set_auto_batch_epoch) - Auto-set epochs to 164\n"
     ]
    },
    {
     "data": {
      "application/vnd.jupyter.widget-view+json": {
       "model_id": "e91d17fb697a4486aa107c7cd417952b",
       "version_major": 2,
       "version_minor": 0
      },
      "text/plain": [
       "  0%|          | 0/131 [00:00<?, ?it/s]"
      ]
     },
     "metadata": {},
     "output_type": "display_data"
    },
    {
     "name": "stderr",
     "output_type": "stream",
     "text": [
      "INFO - (NP.utils_torch.lr_range_test) - lr-range-test results: steep: 7.67E-02, min: 7.80E+00\n"
     ]
    },
    {
     "data": {
      "application/vnd.jupyter.widget-view+json": {
       "model_id": "5681371f0d074175b90cd2f32b09115b",
       "version_major": 2,
       "version_minor": 0
      },
      "text/plain": [
       "  0%|          | 0/131 [00:00<?, ?it/s]"
      ]
     },
     "metadata": {},
     "output_type": "display_data"
    },
    {
     "name": "stderr",
     "output_type": "stream",
     "text": [
      "INFO - (NP.utils_torch.lr_range_test) - lr-range-test results: steep: 3.84E+01, min: 1.07E+01\n",
      "INFO - (NP.forecaster._init_train_loader) - lr-range-test selected learning rate: 6.65E-01\n",
      "Epoch[164/164]: 100%|██████████| 164/164 [00:14<00:00, 11.50it/s, SmoothL1Loss=4.33e-7, MAE=268, RMSE=340, RegLoss=0]         \n",
      "INFO - (NP.df_utils._infer_frequency) - Major frequency S corresponds to 96.963% of the data.\n",
      "INFO - (NP.df_utils._infer_frequency) - Defined frequency is equal to major frequency - s\n",
      "INFO - (NP.df_utils._infer_frequency) - Major frequency S corresponds to 96.963% of the data.\n",
      "INFO - (NP.df_utils._infer_frequency) - Defined frequency is equal to major frequency - s\n"
     ]
    },
    {
     "data": {
      "text/plain": [
       "<AxesSubplot:>"
      ]
     },
     "execution_count": 44,
     "metadata": {},
     "output_type": "execute_result"
    },
    {
     "data": {
      "image/png": "[encoded data removed]",
      "text/plain": [
       "<Figure size 432x288 with 1 Axes>"
      ]
     },
     "metadata": {
      "needs_background": "light"
     },
     "output_type": "display_data"
    }
   ],
   "source": [
    "m, fdf = make_predictions(df, 'pg_table_size')\n",
    "forecast = m.predict(fdf)\n",
    "forecast.plot()"
   ]
  },
  {
   "cell_type": "code",
   "execution_count": 36,
   "metadata": {},
   "outputs": [
    {
     "data": {
      "text/plain": [
       "<AxesSubplot:xlabel='ds', ylabel='pg_table_size'>"
      ]
     },
     "execution_count": 36,
     "metadata": {},
     "output_type": "execute_result"
    },
    {
     "data": {
      "image/png": "[encoded data removed]",
      "text/plain": [
       "<Figure size 432x288 with 1 Axes>"
      ]
     },
     "metadata": {
      "needs_background": "light"
     },
     "output_type": "display_data"
    }
   ],
   "source": [
    "# g2 = sns.FacetGrid(df, row='table_name', sharey=False)\n",
    "# g2.map(sns.lineplot, \"ds\", \"pg_table_size\")\n",
    "# g2.fig.tight_layout(pad=2)\n",
    "sns.lineplot(data=df, x='ds', y='pg_table_size', hue='table_name')"
   ]
  },
  {
   "cell_type": "code",
   "execution_count": 166,
   "metadata": {
    "scrolled": true
   },
   "outputs": [
    {
     "data": {
      "image/png": "[encoded data removed]",
      "text/plain": [
       "<Figure size 432x288 with 1 Axes>"
      ]
     },
     "metadata": {
      "needs_background": "light"
     },
     "output_type": "display_data"
    }
   ],
   "source": [
    "for tab in df.table_name.unique():\n",
    "    p = sns.lineplot(data=df[df.table_name == tab], x='ds', y='pg_table_size')"
   ]
  },
  {
   "cell_type": "code",
   "execution_count": 124,
   "metadata": {},
   "outputs": [],
   "source": [
    "oorder_df = df[df.table_name == 'public.oorder'].copy()"
   ]
  },
  {
   "cell_type": "code",
   "execution_count": 125,
   "metadata": {
    "scrolled": true
   },
   "outputs": [
    {
     "data": {
      "text/html": [
       "<div>\n",
       "<style scoped>\n",
       "    .dataframe tbody tr th:only-of-type {\n",
       "        vertical-align: middle;\n",
       "    }\n",
       "\n",
       "    .dataframe tbody tr th {\n",
       "        vertical-align: top;\n",
       "    }\n",
       "\n",
       "    .dataframe thead th {\n",
       "        text-align: right;\n",
       "    }\n",
       "</style>\n",
       "<table border=\"1\" class=\"dataframe\">\n",
       "  <thead>\n",
       "    <tr style=\"text-align: right;\">\n",
       "      <th></th>\n",
       "      <th>ds</th>\n",
       "      <th>table_name</th>\n",
       "      <th>relid</th>\n",
       "      <th>schemaname</th>\n",
       "      <th>relname</th>\n",
       "      <th>seq_scan</th>\n",
       "      <th>seq_tup_read</th>\n",
       "      <th>idx_scan</th>\n",
       "      <th>idx_tup_fetch</th>\n",
       "      <th>n_tup_ins</th>\n",
       "      <th>...</th>\n",
       "      <th>n_ins_since_vacuum</th>\n",
       "      <th>last_vacuum</th>\n",
       "      <th>last_autovacuum</th>\n",
       "      <th>last_analyze</th>\n",
       "      <th>last_autoanalyze</th>\n",
       "      <th>vacuum_count</th>\n",
       "      <th>autovacuum_count</th>\n",
       "      <th>analyze_count</th>\n",
       "      <th>autoanalyze_count</th>\n",
       "      <th>pg_table_size</th>\n",
       "    </tr>\n",
       "  </thead>\n",
       "  <tbody>\n",
       "    <tr>\n",
       "      <th>5</th>\n",
       "      <td>1970-01-01 00:00:00</td>\n",
       "      <td>public.oorder</td>\n",
       "      <td>17314</td>\n",
       "      <td>public</td>\n",
       "      <td>oorder</td>\n",
       "      <td>3</td>\n",
       "      <td>0</td>\n",
       "      <td>30901892.0</td>\n",
       "      <td>30901892.0</td>\n",
       "      <td>3000000</td>\n",
       "      <td>...</td>\n",
       "      <td>190672</td>\n",
       "      <td>NaN</td>\n",
       "      <td>2022-04-19 20:43:49.993237+00:00</td>\n",
       "      <td>NaN</td>\n",
       "      <td>2022-04-19 20:43:50.713871+00:00</td>\n",
       "      <td>0</td>\n",
       "      <td>10</td>\n",
       "      <td>0</td>\n",
       "      <td>14</td>\n",
       "      <td>96540</td>\n",
       "    </tr>\n",
       "    <tr>\n",
       "      <th>14</th>\n",
       "      <td>1970-01-01 00:00:01</td>\n",
       "      <td>public.oorder</td>\n",
       "      <td>17314</td>\n",
       "      <td>public</td>\n",
       "      <td>oorder</td>\n",
       "      <td>3</td>\n",
       "      <td>0</td>\n",
       "      <td>30901892.0</td>\n",
       "      <td>30901892.0</td>\n",
       "      <td>3000000</td>\n",
       "      <td>...</td>\n",
       "      <td>190672</td>\n",
       "      <td>NaN</td>\n",
       "      <td>2022-04-19 20:43:49.993237+00:00</td>\n",
       "      <td>NaN</td>\n",
       "      <td>2022-04-19 20:43:50.713871+00:00</td>\n",
       "      <td>0</td>\n",
       "      <td>10</td>\n",
       "      <td>0</td>\n",
       "      <td>14</td>\n",
       "      <td>96540</td>\n",
       "    </tr>\n",
       "    <tr>\n",
       "      <th>23</th>\n",
       "      <td>1970-01-01 00:00:02</td>\n",
       "      <td>public.oorder</td>\n",
       "      <td>17314</td>\n",
       "      <td>public</td>\n",
       "      <td>oorder</td>\n",
       "      <td>3</td>\n",
       "      <td>0</td>\n",
       "      <td>30901892.0</td>\n",
       "      <td>30901892.0</td>\n",
       "      <td>3000000</td>\n",
       "      <td>...</td>\n",
       "      <td>190672</td>\n",
       "      <td>NaN</td>\n",
       "      <td>2022-04-19 20:43:49.993237+00:00</td>\n",
       "      <td>NaN</td>\n",
       "      <td>2022-04-19 20:43:50.713871+00:00</td>\n",
       "      <td>0</td>\n",
       "      <td>10</td>\n",
       "      <td>0</td>\n",
       "      <td>14</td>\n",
       "      <td>96540</td>\n",
       "    </tr>\n",
       "    <tr>\n",
       "      <th>32</th>\n",
       "      <td>1970-01-01 00:00:03</td>\n",
       "      <td>public.oorder</td>\n",
       "      <td>17314</td>\n",
       "      <td>public</td>\n",
       "      <td>oorder</td>\n",
       "      <td>3</td>\n",
       "      <td>0</td>\n",
       "      <td>30901892.0</td>\n",
       "      <td>30901892.0</td>\n",
       "      <td>3000000</td>\n",
       "      <td>...</td>\n",
       "      <td>190672</td>\n",
       "      <td>NaN</td>\n",
       "      <td>2022-04-19 20:43:49.993237+00:00</td>\n",
       "      <td>NaN</td>\n",
       "      <td>2022-04-19 20:43:50.713871+00:00</td>\n",
       "      <td>0</td>\n",
       "      <td>10</td>\n",
       "      <td>0</td>\n",
       "      <td>14</td>\n",
       "      <td>96540</td>\n",
       "    </tr>\n",
       "    <tr>\n",
       "      <th>41</th>\n",
       "      <td>1970-01-01 00:00:04</td>\n",
       "      <td>public.oorder</td>\n",
       "      <td>17314</td>\n",
       "      <td>public</td>\n",
       "      <td>oorder</td>\n",
       "      <td>3</td>\n",
       "      <td>0</td>\n",
       "      <td>30901892.0</td>\n",
       "      <td>30901892.0</td>\n",
       "      <td>3000000</td>\n",
       "      <td>...</td>\n",
       "      <td>190672</td>\n",
       "      <td>NaN</td>\n",
       "      <td>2022-04-19 20:43:49.993237+00:00</td>\n",
       "      <td>NaN</td>\n",
       "      <td>2022-04-19 20:43:50.713871+00:00</td>\n",
       "      <td>0</td>\n",
       "      <td>10</td>\n",
       "      <td>0</td>\n",
       "      <td>14</td>\n",
       "      <td>96540</td>\n",
       "    </tr>\n",
       "  </tbody>\n",
       "</table>\n",
       "<p>5 rows × 26 columns</p>\n",
       "</div>"
      ],
      "text/plain": [
       "                    ds     table_name  relid schemaname relname  seq_scan  \\\n",
       "5  1970-01-01 00:00:00  public.oorder  17314     public  oorder         3   \n",
       "14 1970-01-01 00:00:01  public.oorder  17314     public  oorder         3   \n",
       "23 1970-01-01 00:00:02  public.oorder  17314     public  oorder         3   \n",
       "32 1970-01-01 00:00:03  public.oorder  17314     public  oorder         3   \n",
       "41 1970-01-01 00:00:04  public.oorder  17314     public  oorder         3   \n",
       "\n",
       "    seq_tup_read    idx_scan  idx_tup_fetch  n_tup_ins  ...  \\\n",
       "5              0  30901892.0     30901892.0    3000000  ...   \n",
       "14             0  30901892.0     30901892.0    3000000  ...   \n",
       "23             0  30901892.0     30901892.0    3000000  ...   \n",
       "32             0  30901892.0     30901892.0    3000000  ...   \n",
       "41             0  30901892.0     30901892.0    3000000  ...   \n",
       "\n",
       "    n_ins_since_vacuum  last_vacuum                   last_autovacuum  \\\n",
       "5               190672          NaN  2022-04-19 20:43:49.993237+00:00   \n",
       "14              190672          NaN  2022-04-19 20:43:49.993237+00:00   \n",
       "23              190672          NaN  2022-04-19 20:43:49.993237+00:00   \n",
       "32              190672          NaN  2022-04-19 20:43:49.993237+00:00   \n",
       "41              190672          NaN  2022-04-19 20:43:49.993237+00:00   \n",
       "\n",
       "    last_analyze                  last_autoanalyze  vacuum_count  \\\n",
       "5            NaN  2022-04-19 20:43:50.713871+00:00             0   \n",
       "14           NaN  2022-04-19 20:43:50.713871+00:00             0   \n",
       "23           NaN  2022-04-19 20:43:50.713871+00:00             0   \n",
       "32           NaN  2022-04-19 20:43:50.713871+00:00             0   \n",
       "41           NaN  2022-04-19 20:43:50.713871+00:00             0   \n",
       "\n",
       "    autovacuum_count  analyze_count autoanalyze_count  pg_table_size  \n",
       "5                 10              0                14          96540  \n",
       "14                10              0                14          96540  \n",
       "23                10              0                14          96540  \n",
       "32                10              0                14          96540  \n",
       "41                10              0                14          96540  \n",
       "\n",
       "[5 rows x 26 columns]"
      ]
     },
     "execution_count": 125,
     "metadata": {},
     "output_type": "execute_result"
    }
   ],
   "source": [
    "oorder_df.head()"
   ]
  },
  {
   "cell_type": "code",
   "execution_count": 147,
   "metadata": {},
   "outputs": [],
   "source": [
    "def make_predictions(df):]\n",
    "    fdf = pd.DataFrame({'ds': df.ds.round('s'), 'y': df.pg_table_size - df.pg_table_size.min()})\n",
    "    m = NeuralProphet()\n",
    "    metrics = m.fit(fdf[:fdf.shape[0]//2], freq=\"s\")\n",
    "    return m, fdf"
   ]
  },
  {
   "cell_type": "code",
   "execution_count": 138,
   "metadata": {
    "scrolled": true
   },
   "outputs": [
    {
     "name": "stderr",
     "output_type": "stream",
     "text": [
      "INFO - (NP.df_utils._infer_frequency) - Major frequency S corresponds to 99.07% of the data.\n",
      "INFO - (NP.df_utils._infer_frequency) - Defined frequency is equal to major frequency - s\n",
      "INFO - (NP.config.init_data_params) - Setting normalization to global as only one dataframe provided for training.\n",
      "INFO - (NP.utils.set_auto_seasonalities) - Disabling yearly seasonality. Run NeuralProphet with yearly_seasonality=True to override this.\n",
      "INFO - (NP.utils.set_auto_seasonalities) - Disabling weekly seasonality. Run NeuralProphet with weekly_seasonality=True to override this.\n",
      "INFO - (NP.utils.set_auto_seasonalities) - Disabling daily seasonality. Run NeuralProphet with daily_seasonality=True to override this.\n",
      "INFO - (NP.config.set_auto_batch_epoch) - Auto-set batch_size to 16\n",
      "INFO - (NP.config.set_auto_batch_epoch) - Auto-set epochs to 352\n"
     ]
    },
    {
     "data": {
      "application/vnd.jupyter.widget-view+json": {
       "model_id": "97fa38e542404e2ab9b52a4834eb7279",
       "version_major": 2,
       "version_minor": 0
      },
      "text/plain": [
       "  0%|          | 0/112 [00:00<?, ?it/s]"
      ]
     },
     "metadata": {},
     "output_type": "display_data"
    },
    {
     "name": "stderr",
     "output_type": "stream",
     "text": [
      "INFO - (NP.utils_torch.lr_range_test) - lr-range-test results: steep: 6.88E-02, min: 4.18E+00\n"
     ]
    },
    {
     "data": {
      "application/vnd.jupyter.widget-view+json": {
       "model_id": "3a5fdc9281de4b868e94a893698e79b5",
       "version_major": 2,
       "version_minor": 0
      },
      "text/plain": [
       "  0%|          | 0/112 [00:00<?, ?it/s]"
      ]
     },
     "metadata": {},
     "output_type": "display_data"
    },
    {
     "name": "stderr",
     "output_type": "stream",
     "text": [
      "INFO - (NP.utils_torch.lr_range_test) - lr-range-test results: steep: 3.93E+01, min: 5.04E+00\n",
      "INFO - (NP.forecaster._init_train_loader) - lr-range-test selected learning rate: 6.47E-01\n",
      "Epoch[352/352]: 100%|██████████| 352/352 [00:09<00:00, 38.71it/s, SmoothL1Loss=0.00115, MAE=0.753, RMSE=0.945, RegLoss=0]\n",
      "INFO - (NP.df_utils._infer_frequency) - Major frequency S corresponds to 99.302% of the data.\n",
      "INFO - (NP.df_utils._infer_frequency) - Defined frequency is equal to major frequency - s\n",
      "INFO - (NP.df_utils._infer_frequency) - Major frequency S corresponds to 99.302% of the data.\n",
      "INFO - (NP.df_utils._infer_frequency) - Defined frequency is equal to major frequency - s\n"
     ]
    },
    {
     "data": {
      "image/png": "[encoded data removed]",
      "text/plain": [
       "<Figure size 432x288 with 1 Axes>"
      ]
     },
     "metadata": {
      "needs_background": "light"
     },
     "output_type": "display_data"
    }
   ],
   "source": [
    "model, fdf = make_predictions(oorder_df)"
   ]
  },
  {
   "cell_type": "code",
   "execution_count": 140,
   "metadata": {},
   "outputs": [
    {
     "data": {
      "text/html": [
       "<div>\n",
       "<style scoped>\n",
       "    .dataframe tbody tr th:only-of-type {\n",
       "        vertical-align: middle;\n",
       "    }\n",
       "\n",
       "    .dataframe tbody tr th {\n",
       "        vertical-align: top;\n",
       "    }\n",
       "\n",
       "    .dataframe thead th {\n",
       "        text-align: right;\n",
       "    }\n",
       "</style>\n",
       "<table border=\"1\" class=\"dataframe\">\n",
       "  <thead>\n",
       "    <tr style=\"text-align: right;\">\n",
       "      <th></th>\n",
       "      <th>ds</th>\n",
       "      <th>table_name</th>\n",
       "      <th>relid</th>\n",
       "      <th>schemaname</th>\n",
       "      <th>relname</th>\n",
       "      <th>seq_scan</th>\n",
       "      <th>seq_tup_read</th>\n",
       "      <th>idx_scan</th>\n",
       "      <th>idx_tup_fetch</th>\n",
       "      <th>n_tup_ins</th>\n",
       "      <th>...</th>\n",
       "      <th>n_ins_since_vacuum</th>\n",
       "      <th>last_vacuum</th>\n",
       "      <th>last_autovacuum</th>\n",
       "      <th>last_analyze</th>\n",
       "      <th>last_autoanalyze</th>\n",
       "      <th>vacuum_count</th>\n",
       "      <th>autovacuum_count</th>\n",
       "      <th>analyze_count</th>\n",
       "      <th>autoanalyze_count</th>\n",
       "      <th>pg_table_size</th>\n",
       "    </tr>\n",
       "  </thead>\n",
       "  <tbody>\n",
       "    <tr>\n",
       "      <th>0</th>\n",
       "      <td>1970-01-01 00:00:00</td>\n",
       "      <td>public.customer</td>\n",
       "      <td>17287</td>\n",
       "      <td>public</td>\n",
       "      <td>customer</td>\n",
       "      <td>2</td>\n",
       "      <td>0</td>\n",
       "      <td>6000000.0</td>\n",
       "      <td>97106539.0</td>\n",
       "      <td>3000000</td>\n",
       "      <td>...</td>\n",
       "      <td>360000</td>\n",
       "      <td>NaN</td>\n",
       "      <td>2022-04-19 20:41:54.438578+00:00</td>\n",
       "      <td>NaN</td>\n",
       "      <td>2022-04-19 20:44:48.352263+00:00</td>\n",
       "      <td>0</td>\n",
       "      <td>10</td>\n",
       "      <td>0</td>\n",
       "      <td>14</td>\n",
       "      <td>907804</td>\n",
       "    </tr>\n",
       "    <tr>\n",
       "      <th>9</th>\n",
       "      <td>1970-01-01 00:00:01</td>\n",
       "      <td>public.customer</td>\n",
       "      <td>17287</td>\n",
       "      <td>public</td>\n",
       "      <td>customer</td>\n",
       "      <td>2</td>\n",
       "      <td>0</td>\n",
       "      <td>6000000.0</td>\n",
       "      <td>97106539.0</td>\n",
       "      <td>3000000</td>\n",
       "      <td>...</td>\n",
       "      <td>360000</td>\n",
       "      <td>NaN</td>\n",
       "      <td>2022-04-19 20:41:54.438578+00:00</td>\n",
       "      <td>NaN</td>\n",
       "      <td>2022-04-19 20:44:48.352263+00:00</td>\n",
       "      <td>0</td>\n",
       "      <td>10</td>\n",
       "      <td>0</td>\n",
       "      <td>14</td>\n",
       "      <td>907816</td>\n",
       "    </tr>\n",
       "    <tr>\n",
       "      <th>18</th>\n",
       "      <td>1970-01-01 00:00:02</td>\n",
       "      <td>public.customer</td>\n",
       "      <td>17287</td>\n",
       "      <td>public</td>\n",
       "      <td>customer</td>\n",
       "      <td>2</td>\n",
       "      <td>0</td>\n",
       "      <td>6000000.0</td>\n",
       "      <td>97106539.0</td>\n",
       "      <td>3000000</td>\n",
       "      <td>...</td>\n",
       "      <td>360000</td>\n",
       "      <td>NaN</td>\n",
       "      <td>2022-04-19 20:41:54.438578+00:00</td>\n",
       "      <td>NaN</td>\n",
       "      <td>2022-04-19 20:44:48.352263+00:00</td>\n",
       "      <td>0</td>\n",
       "      <td>10</td>\n",
       "      <td>0</td>\n",
       "      <td>14</td>\n",
       "      <td>907832</td>\n",
       "    </tr>\n",
       "    <tr>\n",
       "      <th>27</th>\n",
       "      <td>1970-01-01 00:00:03</td>\n",
       "      <td>public.customer</td>\n",
       "      <td>17287</td>\n",
       "      <td>public</td>\n",
       "      <td>customer</td>\n",
       "      <td>2</td>\n",
       "      <td>0</td>\n",
       "      <td>6000000.0</td>\n",
       "      <td>97106539.0</td>\n",
       "      <td>3000000</td>\n",
       "      <td>...</td>\n",
       "      <td>360000</td>\n",
       "      <td>NaN</td>\n",
       "      <td>2022-04-19 20:41:54.438578+00:00</td>\n",
       "      <td>NaN</td>\n",
       "      <td>2022-04-19 20:44:48.352263+00:00</td>\n",
       "      <td>0</td>\n",
       "      <td>10</td>\n",
       "      <td>0</td>\n",
       "      <td>14</td>\n",
       "      <td>907832</td>\n",
       "    </tr>\n",
       "    <tr>\n",
       "      <th>36</th>\n",
       "      <td>1970-01-01 00:00:04</td>\n",
       "      <td>public.customer</td>\n",
       "      <td>17287</td>\n",
       "      <td>public</td>\n",
       "      <td>customer</td>\n",
       "      <td>2</td>\n",
       "      <td>0</td>\n",
       "      <td>6000000.0</td>\n",
       "      <td>97106539.0</td>\n",
       "      <td>3000000</td>\n",
       "      <td>...</td>\n",
       "      <td>360000</td>\n",
       "      <td>NaN</td>\n",
       "      <td>2022-04-19 20:41:54.438578+00:00</td>\n",
       "      <td>NaN</td>\n",
       "      <td>2022-04-19 20:44:48.352263+00:00</td>\n",
       "      <td>0</td>\n",
       "      <td>10</td>\n",
       "      <td>0</td>\n",
       "      <td>14</td>\n",
       "      <td>907832</td>\n",
       "    </tr>\n",
       "    <tr>\n",
       "      <th>...</th>\n",
       "      <td>...</td>\n",
       "      <td>...</td>\n",
       "      <td>...</td>\n",
       "      <td>...</td>\n",
       "      <td>...</td>\n",
       "      <td>...</td>\n",
       "      <td>...</td>\n",
       "      <td>...</td>\n",
       "      <td>...</td>\n",
       "      <td>...</td>\n",
       "      <td>...</td>\n",
       "      <td>...</td>\n",
       "      <td>...</td>\n",
       "      <td>...</td>\n",
       "      <td>...</td>\n",
       "      <td>...</td>\n",
       "      <td>...</td>\n",
       "      <td>...</td>\n",
       "      <td>...</td>\n",
       "      <td>...</td>\n",
       "      <td>...</td>\n",
       "    </tr>\n",
       "    <tr>\n",
       "      <th>3825</th>\n",
       "      <td>1970-01-01 00:07:07</td>\n",
       "      <td>public.customer</td>\n",
       "      <td>17287</td>\n",
       "      <td>public</td>\n",
       "      <td>customer</td>\n",
       "      <td>2</td>\n",
       "      <td>0</td>\n",
       "      <td>6000000.0</td>\n",
       "      <td>97106539.0</td>\n",
       "      <td>3000000</td>\n",
       "      <td>...</td>\n",
       "      <td>360000</td>\n",
       "      <td>NaN</td>\n",
       "      <td>2022-04-19 20:41:54.438578+00:00</td>\n",
       "      <td>NaN</td>\n",
       "      <td>2022-04-19 20:44:48.352263+00:00</td>\n",
       "      <td>0</td>\n",
       "      <td>10</td>\n",
       "      <td>0</td>\n",
       "      <td>14</td>\n",
       "      <td>908228</td>\n",
       "    </tr>\n",
       "    <tr>\n",
       "      <th>3834</th>\n",
       "      <td>1970-01-01 00:07:08</td>\n",
       "      <td>public.customer</td>\n",
       "      <td>17287</td>\n",
       "      <td>public</td>\n",
       "      <td>customer</td>\n",
       "      <td>2</td>\n",
       "      <td>0</td>\n",
       "      <td>6000000.0</td>\n",
       "      <td>97106539.0</td>\n",
       "      <td>3000000</td>\n",
       "      <td>...</td>\n",
       "      <td>360000</td>\n",
       "      <td>NaN</td>\n",
       "      <td>2022-04-19 20:41:54.438578+00:00</td>\n",
       "      <td>NaN</td>\n",
       "      <td>2022-04-19 20:44:48.352263+00:00</td>\n",
       "      <td>0</td>\n",
       "      <td>10</td>\n",
       "      <td>0</td>\n",
       "      <td>14</td>\n",
       "      <td>908228</td>\n",
       "    </tr>\n",
       "    <tr>\n",
       "      <th>3843</th>\n",
       "      <td>1970-01-01 00:07:09</td>\n",
       "      <td>public.customer</td>\n",
       "      <td>17287</td>\n",
       "      <td>public</td>\n",
       "      <td>customer</td>\n",
       "      <td>2</td>\n",
       "      <td>0</td>\n",
       "      <td>6000000.0</td>\n",
       "      <td>97106539.0</td>\n",
       "      <td>3000000</td>\n",
       "      <td>...</td>\n",
       "      <td>360000</td>\n",
       "      <td>NaN</td>\n",
       "      <td>2022-04-19 20:41:54.438578+00:00</td>\n",
       "      <td>NaN</td>\n",
       "      <td>2022-04-19 20:44:48.352263+00:00</td>\n",
       "      <td>0</td>\n",
       "      <td>10</td>\n",
       "      <td>0</td>\n",
       "      <td>14</td>\n",
       "      <td>908228</td>\n",
       "    </tr>\n",
       "    <tr>\n",
       "      <th>3852</th>\n",
       "      <td>1970-01-01 00:07:10</td>\n",
       "      <td>public.customer</td>\n",
       "      <td>17287</td>\n",
       "      <td>public</td>\n",
       "      <td>customer</td>\n",
       "      <td>2</td>\n",
       "      <td>0</td>\n",
       "      <td>6000000.0</td>\n",
       "      <td>97106539.0</td>\n",
       "      <td>3000000</td>\n",
       "      <td>...</td>\n",
       "      <td>360000</td>\n",
       "      <td>NaN</td>\n",
       "      <td>2022-04-19 20:41:54.438578+00:00</td>\n",
       "      <td>NaN</td>\n",
       "      <td>2022-04-19 20:44:48.352263+00:00</td>\n",
       "      <td>0</td>\n",
       "      <td>10</td>\n",
       "      <td>0</td>\n",
       "      <td>14</td>\n",
       "      <td>908228</td>\n",
       "    </tr>\n",
       "    <tr>\n",
       "      <th>3861</th>\n",
       "      <td>1970-01-01 00:07:11</td>\n",
       "      <td>public.customer</td>\n",
       "      <td>17287</td>\n",
       "      <td>public</td>\n",
       "      <td>customer</td>\n",
       "      <td>2</td>\n",
       "      <td>0</td>\n",
       "      <td>6000000.0</td>\n",
       "      <td>97106539.0</td>\n",
       "      <td>3000000</td>\n",
       "      <td>...</td>\n",
       "      <td>360000</td>\n",
       "      <td>NaN</td>\n",
       "      <td>2022-04-19 20:41:54.438578+00:00</td>\n",
       "      <td>NaN</td>\n",
       "      <td>2022-04-19 20:44:48.352263+00:00</td>\n",
       "      <td>0</td>\n",
       "      <td>10</td>\n",
       "      <td>0</td>\n",
       "      <td>14</td>\n",
       "      <td>908228</td>\n",
       "    </tr>\n",
       "  </tbody>\n",
       "</table>\n",
       "<p>430 rows × 26 columns</p>\n",
       "</div>"
      ],
      "text/plain": [
       "                      ds       table_name  relid schemaname   relname  \\\n",
       "0    1970-01-01 00:00:00  public.customer  17287     public  customer   \n",
       "9    1970-01-01 00:00:01  public.customer  17287     public  customer   \n",
       "18   1970-01-01 00:00:02  public.customer  17287     public  customer   \n",
       "27   1970-01-01 00:00:03  public.customer  17287     public  customer   \n",
       "36   1970-01-01 00:00:04  public.customer  17287     public  customer   \n",
       "...                  ...              ...    ...        ...       ...   \n",
       "3825 1970-01-01 00:07:07  public.customer  17287     public  customer   \n",
       "3834 1970-01-01 00:07:08  public.customer  17287     public  customer   \n",
       "3843 1970-01-01 00:07:09  public.customer  17287     public  customer   \n",
       "3852 1970-01-01 00:07:10  public.customer  17287     public  customer   \n",
       "3861 1970-01-01 00:07:11  public.customer  17287     public  customer   \n",
       "\n",
       "      seq_scan  seq_tup_read   idx_scan  idx_tup_fetch  n_tup_ins  ...  \\\n",
       "0            2             0  6000000.0     97106539.0    3000000  ...   \n",
       "9            2             0  6000000.0     97106539.0    3000000  ...   \n",
       "18           2             0  6000000.0     97106539.0    3000000  ...   \n",
       "27           2             0  6000000.0     97106539.0    3000000  ...   \n",
       "36           2             0  6000000.0     97106539.0    3000000  ...   \n",
       "...        ...           ...        ...            ...        ...  ...   \n",
       "3825         2             0  6000000.0     97106539.0    3000000  ...   \n",
       "3834         2             0  6000000.0     97106539.0    3000000  ...   \n",
       "3843         2             0  6000000.0     97106539.0    3000000  ...   \n",
       "3852         2             0  6000000.0     97106539.0    3000000  ...   \n",
       "3861         2             0  6000000.0     97106539.0    3000000  ...   \n",
       "\n",
       "      n_ins_since_vacuum  last_vacuum                   last_autovacuum  \\\n",
       "0                 360000          NaN  2022-04-19 20:41:54.438578+00:00   \n",
       "9                 360000          NaN  2022-04-19 20:41:54.438578+00:00   \n",
       "18                360000          NaN  2022-04-19 20:41:54.438578+00:00   \n",
       "27                360000          NaN  2022-04-19 20:41:54.438578+00:00   \n",
       "36                360000          NaN  2022-04-19 20:41:54.438578+00:00   \n",
       "...                  ...          ...                               ...   \n",
       "3825              360000          NaN  2022-04-19 20:41:54.438578+00:00   \n",
       "3834              360000          NaN  2022-04-19 20:41:54.438578+00:00   \n",
       "3843              360000          NaN  2022-04-19 20:41:54.438578+00:00   \n",
       "3852              360000          NaN  2022-04-19 20:41:54.438578+00:00   \n",
       "3861              360000          NaN  2022-04-19 20:41:54.438578+00:00   \n",
       "\n",
       "      last_analyze                  last_autoanalyze  vacuum_count  \\\n",
       "0              NaN  2022-04-19 20:44:48.352263+00:00             0   \n",
       "9              NaN  2022-04-19 20:44:48.352263+00:00             0   \n",
       "18             NaN  2022-04-19 20:44:48.352263+00:00             0   \n",
       "27             NaN  2022-04-19 20:44:48.352263+00:00             0   \n",
       "36             NaN  2022-04-19 20:44:48.352263+00:00             0   \n",
       "...            ...                               ...           ...   \n",
       "3825           NaN  2022-04-19 20:44:48.352263+00:00             0   \n",
       "3834           NaN  2022-04-19 20:44:48.352263+00:00             0   \n",
       "3843           NaN  2022-04-19 20:44:48.352263+00:00             0   \n",
       "3852           NaN  2022-04-19 20:44:48.352263+00:00             0   \n",
       "3861           NaN  2022-04-19 20:44:48.352263+00:00             0   \n",
       "\n",
       "      autovacuum_count  analyze_count autoanalyze_count  pg_table_size  \n",
       "0                   10              0                14         907804  \n",
       "9                   10              0                14         907816  \n",
       "18                  10              0                14         907832  \n",
       "27                  10              0                14         907832  \n",
       "36                  10              0                14         907832  \n",
       "...                ...            ...               ...            ...  \n",
       "3825                10              0                14         908228  \n",
       "3834                10              0                14         908228  \n",
       "3843                10              0                14         908228  \n",
       "3852                10              0                14         908228  \n",
       "3861                10              0                14         908228  \n",
       "\n",
       "[430 rows x 26 columns]"
      ]
     },
     "execution_count": 140,
     "metadata": {},
     "output_type": "execute_result"
    }
   ],
   "source": [
    "df[df.table_name == 'public.customer'].copy()"
   ]
  },
  {
   "cell_type": "code",
   "execution_count": 142,
   "metadata": {},
   "outputs": [
    {
     "data": {
      "text/plain": [
       "<AxesSubplot:xlabel='ds', ylabel='pg_table_size'>"
      ]
     },
     "execution_count": 142,
     "metadata": {},
     "output_type": "execute_result"
    },
    {
     "data": {
      "image/png": "[encoded data removed]",
      "text/plain": [
       "<Figure size 432x288 with 1 Axes>"
      ]
     },
     "metadata": {
      "needs_background": "light"
     },
     "output_type": "display_data"
    }
   ],
   "source": [
    "plot_growth(df[df.table_name == 'public.customer'].copy(), 'pg_table_size')"
   ]
  },
  {
   "cell_type": "code",
   "execution_count": 144,
   "metadata": {},
   "outputs": [
    {
     "name": "stderr",
     "output_type": "stream",
     "text": [
      "INFO - (NP.df_utils._infer_frequency) - Major frequency S corresponds to 99.07% of the data.\n",
      "INFO - (NP.df_utils._infer_frequency) - Defined frequency is equal to major frequency - s\n",
      "INFO - (NP.config.init_data_params) - Setting normalization to global as only one dataframe provided for training.\n",
      "INFO - (NP.utils.set_auto_seasonalities) - Disabling yearly seasonality. Run NeuralProphet with yearly_seasonality=True to override this.\n",
      "INFO - (NP.utils.set_auto_seasonalities) - Disabling weekly seasonality. Run NeuralProphet with weekly_seasonality=True to override this.\n",
      "INFO - (NP.utils.set_auto_seasonalities) - Disabling daily seasonality. Run NeuralProphet with daily_seasonality=True to override this.\n",
      "INFO - (NP.config.set_auto_batch_epoch) - Auto-set batch_size to 16\n",
      "INFO - (NP.config.set_auto_batch_epoch) - Auto-set epochs to 352\n"
     ]
    },
    {
     "data": {
      "application/vnd.jupyter.widget-view+json": {
       "model_id": "bf9bd16a9e1749d496b2260b63571d01",
       "version_major": 2,
       "version_minor": 0
      },
      "text/plain": [
       "  0%|          | 0/112 [00:00<?, ?it/s]"
      ]
     },
     "metadata": {},
     "output_type": "display_data"
    },
    {
     "name": "stderr",
     "output_type": "stream",
     "text": [
      "INFO - (NP.utils_torch.lr_range_test) - lr-range-test results: steep: 1.75E-01, min: 1.28E+01\n"
     ]
    },
    {
     "data": {
      "application/vnd.jupyter.widget-view+json": {
       "model_id": "971fbd6961ad41cd898daaaa1e86d188",
       "version_major": 2,
       "version_minor": 0
      },
      "text/plain": [
       "  0%|          | 0/112 [00:00<?, ?it/s]"
      ]
     },
     "metadata": {},
     "output_type": "display_data"
    },
    {
     "name": "stderr",
     "output_type": "stream",
     "text": [
      "INFO - (NP.utils_torch.lr_range_test) - lr-range-test results: steep: 1.75E-01, min: 1.86E+01\n",
      "INFO - (NP.forecaster._init_train_loader) - lr-range-test selected learning rate: 1.45E-01\n",
      "Epoch[352/352]: 100%|██████████| 352/352 [00:08<00:00, 39.59it/s, SmoothL1Loss=0.000133, MAE=3.64, RMSE=4.57, RegLoss=0]\n",
      "INFO - (NP.df_utils._infer_frequency) - Major frequency S corresponds to 99.302% of the data.\n",
      "INFO - (NP.df_utils._infer_frequency) - Defined frequency is equal to major frequency - s\n",
      "INFO - (NP.df_utils._infer_frequency) - Major frequency S corresponds to 99.302% of the data.\n",
      "INFO - (NP.df_utils._infer_frequency) - Defined frequency is equal to major frequency - s\n"
     ]
    },
    {
     "data": {
      "image/png": "[encoded data removed]",
      "text/plain": [
       "<Figure size 432x288 with 1 Axes>"
      ]
     },
     "metadata": {
      "needs_background": "light"
     },
     "output_type": "display_data"
    }
   ],
   "source": [
    "_ = make_predictions(df[df.table_name == 'public.customer'].copy())"
   ]
  },
  {
   "cell_type": "code",
   "execution_count": 146,
   "metadata": {},
   "outputs": [
    {
     "name": "stderr",
     "output_type": "stream",
     "text": [
      "INFO - (NP.df_utils._infer_frequency) - Major frequency S corresponds to 99.302% of the data.\n",
      "INFO - (NP.df_utils._infer_frequency) - Defined frequency is equal to major frequency - s\n",
      "INFO - (NP.df_utils._infer_frequency) - Major frequency S corresponds to 99.302% of the data.\n",
      "INFO - (NP.df_utils._infer_frequency) - Defined frequency is equal to major frequency - s\n"
     ]
    },
    {
     "data": {
      "text/plain": [
       "<AxesSubplot:>"
      ]
     },
     "execution_count": 146,
     "metadata": {},
     "output_type": "execute_result"
    },
    {
     "data": {
      "image/png": "[encoded data removed]",
      "text/plain": [
       "<Figure size 432x288 with 1 Axes>"
      ]
     },
     "metadata": {
      "needs_background": "light"
     },
     "output_type": "display_data"
    }
   ],
   "source": [
    "_[0].predict(_[1]).plot()"
   ]
  },
  {
   "cell_type": "code",
   "execution_count": 148,
   "metadata": {},
   "outputs": [],
   "source": [
    "models = {}"
   ]
  },
  {
   "cell_type": "code",
   "execution_count": 151,
   "metadata": {},
   "outputs": [
    {
     "name": "stderr",
     "output_type": "stream",
     "text": [
      "INFO - (NP.df_utils._infer_frequency) - Major frequency S corresponds to 99.07% of the data.\n",
      "INFO - (NP.df_utils._infer_frequency) - Defined frequency is equal to major frequency - s\n",
      "INFO - (NP.config.init_data_params) - Setting normalization to global as only one dataframe provided for training.\n",
      "INFO - (NP.utils.set_auto_seasonalities) - Disabling yearly seasonality. Run NeuralProphet with yearly_seasonality=True to override this.\n",
      "INFO - (NP.utils.set_auto_seasonalities) - Disabling weekly seasonality. Run NeuralProphet with weekly_seasonality=True to override this.\n",
      "INFO - (NP.utils.set_auto_seasonalities) - Disabling daily seasonality. Run NeuralProphet with daily_seasonality=True to override this.\n",
      "INFO - (NP.config.set_auto_batch_epoch) - Auto-set batch_size to 16\n",
      "INFO - (NP.config.set_auto_batch_epoch) - Auto-set epochs to 352\n"
     ]
    },
    {
     "data": {
      "application/vnd.jupyter.widget-view+json": {
       "model_id": "765a56130e0e4394be164fee466e085e",
       "version_major": 2,
       "version_minor": 0
      },
      "text/plain": [
       "  0%|          | 0/112 [00:00<?, ?it/s]"
      ]
     },
     "metadata": {},
     "output_type": "display_data"
    },
    {
     "name": "stdout",
     "output_type": "stream",
     "text": [
      "public.customer\n"
     ]
    },
    {
     "name": "stderr",
     "output_type": "stream",
     "text": [
      "INFO - (NP.utils_torch.lr_range_test) - lr-range-test results: steep: 8.30E-02, min: 6.08E+00\n"
     ]
    },
    {
     "data": {
      "application/vnd.jupyter.widget-view+json": {
       "model_id": "6fc867866a8d4f83b91f76c71d479ed4",
       "version_major": 2,
       "version_minor": 0
      },
      "text/plain": [
       "  0%|          | 0/112 [00:00<?, ?it/s]"
      ]
     },
     "metadata": {},
     "output_type": "display_data"
    },
    {
     "name": "stderr",
     "output_type": "stream",
     "text": [
      "INFO - (NP.utils_torch.lr_range_test) - lr-range-test results: steep: 6.88E-02, min: 5.04E+00\n",
      "INFO - (NP.forecaster._init_train_loader) - lr-range-test selected learning rate: 8.30E-02\n",
      "Epoch[352/352]: 100%|██████████| 352/352 [00:09<00:00, 38.99it/s, SmoothL1Loss=0.000134, MAE=3.63, RMSE=4.54, RegLoss=0]\n",
      "INFO - (NP.df_utils._infer_frequency) - Major frequency S corresponds to 99.07% of the data.\n",
      "INFO - (NP.df_utils._infer_frequency) - Defined frequency is equal to major frequency - s\n",
      "INFO - (NP.config.init_data_params) - Setting normalization to global as only one dataframe provided for training.\n",
      "INFO - (NP.utils.set_auto_seasonalities) - Disabling yearly seasonality. Run NeuralProphet with yearly_seasonality=True to override this.\n",
      "INFO - (NP.utils.set_auto_seasonalities) - Disabling weekly seasonality. Run NeuralProphet with weekly_seasonality=True to override this.\n",
      "INFO - (NP.utils.set_auto_seasonalities) - Disabling daily seasonality. Run NeuralProphet with daily_seasonality=True to override this.\n",
      "INFO - (NP.config.set_auto_batch_epoch) - Auto-set batch_size to 16\n",
      "INFO - (NP.config.set_auto_batch_epoch) - Auto-set epochs to 352\n"
     ]
    },
    {
     "data": {
      "application/vnd.jupyter.widget-view+json": {
       "model_id": "3541ad71544f4147945357952003d04f",
       "version_major": 2,
       "version_minor": 0
      },
      "text/plain": [
       "  0%|          | 0/112 [00:00<?, ?it/s]"
      ]
     },
     "metadata": {},
     "output_type": "display_data"
    },
    {
     "name": "stdout",
     "output_type": "stream",
     "text": [
      "public.district\n"
     ]
    },
    {
     "name": "stderr",
     "output_type": "stream",
     "text": [
      "INFO - (NP.utils_torch.lr_range_test) - lr-range-test results: steep: 8.30E-02, min: 1.75E-01\n"
     ]
    },
    {
     "data": {
      "application/vnd.jupyter.widget-view+json": {
       "model_id": "485f70b056ef49199c7b9d4d7b85f90d",
       "version_major": 2,
       "version_minor": 0
      },
      "text/plain": [
       "  0%|          | 0/112 [00:00<?, ?it/s]"
      ]
     },
     "metadata": {},
     "output_type": "display_data"
    },
    {
     "name": "stderr",
     "output_type": "stream",
     "text": [
      "INFO - (NP.utils_torch.lr_range_test) - lr-range-test results: steep: 8.30E-02, min: 1.75E-01\n",
      "INFO - (NP.forecaster._init_train_loader) - lr-range-test selected learning rate: 8.83E-02\n",
      "Epoch[352/352]: 100%|██████████| 352/352 [00:09<00:00, 36.28it/s, SmoothL1Loss=0.00195, MAE=0.0427, RMSE=0.129, RegLoss=0]\n",
      "INFO - (NP.df_utils._infer_frequency) - Major frequency S corresponds to 99.07% of the data.\n",
      "INFO - (NP.df_utils._infer_frequency) - Defined frequency is equal to major frequency - s\n",
      "INFO - (NP.config.init_data_params) - Setting normalization to global as only one dataframe provided for training.\n",
      "INFO - (NP.utils.set_auto_seasonalities) - Disabling yearly seasonality. Run NeuralProphet with yearly_seasonality=True to override this.\n",
      "INFO - (NP.utils.set_auto_seasonalities) - Disabling weekly seasonality. Run NeuralProphet with weekly_seasonality=True to override this.\n",
      "INFO - (NP.utils.set_auto_seasonalities) - Disabling daily seasonality. Run NeuralProphet with daily_seasonality=True to override this.\n",
      "INFO - (NP.config.set_auto_batch_epoch) - Auto-set batch_size to 16\n",
      "INFO - (NP.config.set_auto_batch_epoch) - Auto-set epochs to 352\n"
     ]
    },
    {
     "data": {
      "application/vnd.jupyter.widget-view+json": {
       "model_id": "c3bf96458ba64d4d92e978587370300e",
       "version_major": 2,
       "version_minor": 0
      },
      "text/plain": [
       "  0%|          | 0/112 [00:00<?, ?it/s]"
      ]
     },
     "metadata": {},
     "output_type": "display_data"
    },
    {
     "name": "stdout",
     "output_type": "stream",
     "text": [
      "public.history\n"
     ]
    },
    {
     "name": "stderr",
     "output_type": "stream",
     "text": [
      "INFO - (NP.utils_torch.lr_range_test) - lr-range-test results: steep: 6.88E-02, min: 1.65E+00\n"
     ]
    },
    {
     "data": {
      "application/vnd.jupyter.widget-view+json": {
       "model_id": "4a9c7d07db9d4fb484400e8961f46d09",
       "version_major": 2,
       "version_minor": 0
      },
      "text/plain": [
       "  0%|          | 0/112 [00:00<?, ?it/s]"
      ]
     },
     "metadata": {},
     "output_type": "display_data"
    },
    {
     "name": "stderr",
     "output_type": "stream",
     "text": [
      "INFO - (NP.utils_torch.lr_range_test) - lr-range-test results: steep: 6.88E-02, min: 1.65E+00\n",
      "INFO - (NP.forecaster._init_train_loader) - lr-range-test selected learning rate: 7.80E-02\n",
      "Epoch[352/352]: 100%|██████████| 352/352 [00:08<00:00, 40.62it/s, SmoothL1Loss=0.000621, MAE=0.789, RMSE=0.973, RegLoss=0]\n",
      "INFO - (NP.df_utils._infer_frequency) - Major frequency S corresponds to 99.07% of the data.\n",
      "INFO - (NP.df_utils._infer_frequency) - Defined frequency is equal to major frequency - s\n",
      "INFO - (NP.config.init_data_params) - Setting normalization to global as only one dataframe provided for training.\n",
      "INFO - (NP.utils.set_auto_seasonalities) - Disabling yearly seasonality. Run NeuralProphet with yearly_seasonality=True to override this.\n",
      "INFO - (NP.utils.set_auto_seasonalities) - Disabling weekly seasonality. Run NeuralProphet with weekly_seasonality=True to override this.\n",
      "INFO - (NP.utils.set_auto_seasonalities) - Disabling daily seasonality. Run NeuralProphet with daily_seasonality=True to override this.\n",
      "INFO - (NP.config.set_auto_batch_epoch) - Auto-set batch_size to 16\n",
      "INFO - (NP.config.set_auto_batch_epoch) - Auto-set epochs to 352\n"
     ]
    },
    {
     "data": {
      "application/vnd.jupyter.widget-view+json": {
       "model_id": "abfee67493784245ae020d8b434d2409",
       "version_major": 2,
       "version_minor": 0
      },
      "text/plain": [
       "  0%|          | 0/112 [00:00<?, ?it/s]"
      ]
     },
     "metadata": {},
     "output_type": "display_data"
    },
    {
     "name": "stdout",
     "output_type": "stream",
     "text": [
      "public.item\n",
      "public.new_order\n"
     ]
    },
    {
     "name": "stderr",
     "output_type": "stream",
     "text": [
      "INFO - (NP.utils_torch.lr_range_test) - lr-range-test results: steep: 4.74E-02, min: 1.65E+00\n"
     ]
    },
    {
     "data": {
      "application/vnd.jupyter.widget-view+json": {
       "model_id": "587ceba584e24092bf1d34231a192321",
       "version_major": 2,
       "version_minor": 0
      },
      "text/plain": [
       "  0%|          | 0/112 [00:00<?, ?it/s]"
      ]
     },
     "metadata": {},
     "output_type": "display_data"
    },
    {
     "name": "stderr",
     "output_type": "stream",
     "text": [
      "INFO - (NP.utils_torch.lr_range_test) - lr-range-test results: steep: 4.74E-02, min: 2.88E+00\n",
      "INFO - (NP.forecaster._init_train_loader) - lr-range-test selected learning rate: 6.08E-02\n",
      "Epoch[352/352]: 100%|██████████| 352/352 [00:08<00:00, 40.77it/s, SmoothL1Loss=0.00136, MAE=0.587, RMSE=0.818, RegLoss=0]\n",
      "INFO - (NP.df_utils._infer_frequency) - Major frequency S corresponds to 99.07% of the data.\n",
      "INFO - (NP.df_utils._infer_frequency) - Defined frequency is equal to major frequency - s\n",
      "INFO - (NP.config.init_data_params) - Setting normalization to global as only one dataframe provided for training.\n",
      "INFO - (NP.utils.set_auto_seasonalities) - Disabling yearly seasonality. Run NeuralProphet with yearly_seasonality=True to override this.\n",
      "INFO - (NP.utils.set_auto_seasonalities) - Disabling weekly seasonality. Run NeuralProphet with weekly_seasonality=True to override this.\n",
      "INFO - (NP.utils.set_auto_seasonalities) - Disabling daily seasonality. Run NeuralProphet with daily_seasonality=True to override this.\n",
      "INFO - (NP.config.set_auto_batch_epoch) - Auto-set batch_size to 16\n",
      "INFO - (NP.config.set_auto_batch_epoch) - Auto-set epochs to 352\n"
     ]
    },
    {
     "data": {
      "application/vnd.jupyter.widget-view+json": {
       "model_id": "c2aa2fbf3c574413ae9662ef8391c026",
       "version_major": 2,
       "version_minor": 0
      },
      "text/plain": [
       "  0%|          | 0/112 [00:00<?, ?it/s]"
      ]
     },
     "metadata": {},
     "output_type": "display_data"
    },
    {
     "name": "stdout",
     "output_type": "stream",
     "text": [
      "public.oorder\n"
     ]
    },
    {
     "name": "stderr",
     "output_type": "stream",
     "text": [
      "INFO - (NP.utils_torch.lr_range_test) - lr-range-test results: steep: 5.37E-01, min: 8.30E-02\n"
     ]
    },
    {
     "data": {
      "application/vnd.jupyter.widget-view+json": {
       "model_id": "30e714aac50249a28ea8953c7758fec5",
       "version_major": 2,
       "version_minor": 0
      },
      "text/plain": [
       "  0%|          | 0/112 [00:00<?, ?it/s]"
      ]
     },
     "metadata": {},
     "output_type": "display_data"
    },
    {
     "name": "stderr",
     "output_type": "stream",
     "text": [
      "INFO - (NP.utils_torch.lr_range_test) - lr-range-test results: steep: 5.37E-01, min: 8.30E-02\n",
      "INFO - (NP.forecaster._init_train_loader) - lr-range-test selected learning rate: 3.07E-01\n",
      "Epoch[352/352]: 100%|██████████| 352/352 [00:08<00:00, 40.93it/s, SmoothL1Loss=0.00115, MAE=0.753, RMSE=0.942, RegLoss=0]\n",
      "INFO - (NP.df_utils._infer_frequency) - Major frequency S corresponds to 99.07% of the data.\n",
      "INFO - (NP.df_utils._infer_frequency) - Defined frequency is equal to major frequency - s\n",
      "INFO - (NP.config.init_data_params) - Setting normalization to global as only one dataframe provided for training.\n",
      "INFO - (NP.utils.set_auto_seasonalities) - Disabling yearly seasonality. Run NeuralProphet with yearly_seasonality=True to override this.\n",
      "INFO - (NP.utils.set_auto_seasonalities) - Disabling weekly seasonality. Run NeuralProphet with weekly_seasonality=True to override this.\n",
      "INFO - (NP.utils.set_auto_seasonalities) - Disabling daily seasonality. Run NeuralProphet with daily_seasonality=True to override this.\n",
      "INFO - (NP.config.set_auto_batch_epoch) - Auto-set batch_size to 16\n",
      "INFO - (NP.config.set_auto_batch_epoch) - Auto-set epochs to 352\n"
     ]
    },
    {
     "data": {
      "application/vnd.jupyter.widget-view+json": {
       "model_id": "6aafbe9b96974856be15c5a936494be0",
       "version_major": 2,
       "version_minor": 0
      },
      "text/plain": [
       "  0%|          | 0/112 [00:00<?, ?it/s]"
      ]
     },
     "metadata": {},
     "output_type": "display_data"
    },
    {
     "name": "stdout",
     "output_type": "stream",
     "text": [
      "public.order_line\n"
     ]
    },
    {
     "name": "stderr",
     "output_type": "stream",
     "text": [
      "INFO - (NP.utils_torch.lr_range_test) - lr-range-test results: steep: 1.45E-01, min: 2.88E+00\n"
     ]
    },
    {
     "data": {
      "application/vnd.jupyter.widget-view+json": {
       "model_id": "b4586f1dd07e46c38ab71687fafe8b27",
       "version_major": 2,
       "version_minor": 0
      },
      "text/plain": [
       "  0%|          | 0/112 [00:00<?, ?it/s]"
      ]
     },
     "metadata": {},
     "output_type": "display_data"
    },
    {
     "name": "stderr",
     "output_type": "stream",
     "text": [
      "INFO - (NP.utils_torch.lr_range_test) - lr-range-test results: steep: 1.45E-01, min: 2.88E+00\n",
      "INFO - (NP.forecaster._init_train_loader) - lr-range-test selected learning rate: 1.28E-01\n",
      "Epoch[352/352]: 100%|██████████| 352/352 [00:08<00:00, 40.85it/s, SmoothL1Loss=0.00016, MAE=5.1, RMSE=6.6, RegLoss=0]   \n",
      "INFO - (NP.df_utils._infer_frequency) - Major frequency S corresponds to 99.065% of the data.\n",
      "INFO - (NP.df_utils._infer_frequency) - Defined frequency is equal to major frequency - s\n",
      "INFO - (NP.config.init_data_params) - Setting normalization to global as only one dataframe provided for training.\n",
      "INFO - (NP.utils.set_auto_seasonalities) - Disabling yearly seasonality. Run NeuralProphet with yearly_seasonality=True to override this.\n",
      "INFO - (NP.utils.set_auto_seasonalities) - Disabling weekly seasonality. Run NeuralProphet with weekly_seasonality=True to override this.\n",
      "INFO - (NP.utils.set_auto_seasonalities) - Disabling daily seasonality. Run NeuralProphet with daily_seasonality=True to override this.\n",
      "INFO - (NP.config.set_auto_batch_epoch) - Auto-set batch_size to 16\n",
      "INFO - (NP.config.set_auto_batch_epoch) - Auto-set epochs to 353\n"
     ]
    },
    {
     "data": {
      "application/vnd.jupyter.widget-view+json": {
       "model_id": "7e6d14f9bc5549699e1acdc15cd31c62",
       "version_major": 2,
       "version_minor": 0
      },
      "text/plain": [
       "  0%|          | 0/112 [00:00<?, ?it/s]"
      ]
     },
     "metadata": {},
     "output_type": "display_data"
    },
    {
     "name": "stdout",
     "output_type": "stream",
     "text": [
      "public.stock\n"
     ]
    },
    {
     "name": "stderr",
     "output_type": "stream",
     "text": [
      "INFO - (NP.utils_torch.lr_range_test) - lr-range-test results: steep: 6.88E-02, min: 1.75E-01\n"
     ]
    },
    {
     "data": {
      "application/vnd.jupyter.widget-view+json": {
       "model_id": "d58ed141656349b8b66d44915fa64041",
       "version_major": 2,
       "version_minor": 0
      },
      "text/plain": [
       "  0%|          | 0/112 [00:00<?, ?it/s]"
      ]
     },
     "metadata": {},
     "output_type": "display_data"
    },
    {
     "name": "stderr",
     "output_type": "stream",
     "text": [
      "INFO - (NP.utils_torch.lr_range_test) - lr-range-test results: steep: 6.88E-02, min: 4.18E+00\n",
      "INFO - (NP.forecaster._init_train_loader) - lr-range-test selected learning rate: 7.80E-02\n",
      "Epoch[353/353]: 100%|██████████| 353/353 [00:08<00:00, 41.15it/s, SmoothL1Loss=0.000142, MAE=4.75, RMSE=6.12, RegLoss=0]\n",
      "INFO - (NP.df_utils._infer_frequency) - Major frequency S corresponds to 99.065% of the data.\n",
      "INFO - (NP.df_utils._infer_frequency) - Defined frequency is equal to major frequency - s\n",
      "INFO - (NP.config.init_data_params) - Setting normalization to global as only one dataframe provided for training.\n",
      "ERROR - (NP.df_utils.auto_normalization_setting) - encountered variable with one unique value\n"
     ]
    },
    {
     "name": "stdout",
     "output_type": "stream",
     "text": [
      "public.warehouse\n"
     ]
    },
    {
     "ename": "ValueError",
     "evalue": "",
     "output_type": "error",
     "traceback": [
      "\u001b[0;31m---------------------------------------------------------------------------\u001b[0m",
      "\u001b[0;31mValueError\u001b[0m                                Traceback (most recent call last)",
      "\u001b[0;32m<ipython-input-151-4fe343bc509d>\u001b[0m in \u001b[0;36m<module>\u001b[0;34m\u001b[0m\n\u001b[1;32m      3\u001b[0m     \u001b[0;32mif\u001b[0m \u001b[0mtable\u001b[0m \u001b[0;32min\u001b[0m \u001b[0;34m[\u001b[0m\u001b[0;34m'public.item'\u001b[0m\u001b[0;34m]\u001b[0m\u001b[0;34m:\u001b[0m\u001b[0;34m\u001b[0m\u001b[0;34m\u001b[0m\u001b[0m\n\u001b[1;32m      4\u001b[0m         \u001b[0;32mcontinue\u001b[0m\u001b[0;34m\u001b[0m\u001b[0;34m\u001b[0m\u001b[0m\n\u001b[0;32m----> 5\u001b[0;31m     \u001b[0mmodel\u001b[0m\u001b[0;34m,\u001b[0m \u001b[0mdata\u001b[0m \u001b[0;34m=\u001b[0m \u001b[0mmake_predictions\u001b[0m\u001b[0;34m(\u001b[0m\u001b[0mdf\u001b[0m\u001b[0;34m[\u001b[0m\u001b[0mdf\u001b[0m\u001b[0;34m.\u001b[0m\u001b[0mtable_name\u001b[0m \u001b[0;34m==\u001b[0m \u001b[0mtable\u001b[0m\u001b[0;34m]\u001b[0m\u001b[0;34m.\u001b[0m\u001b[0mcopy\u001b[0m\u001b[0;34m(\u001b[0m\u001b[0;34m)\u001b[0m\u001b[0;34m)\u001b[0m\u001b[0;34m\u001b[0m\u001b[0;34m\u001b[0m\u001b[0m\n\u001b[0m\u001b[1;32m      6\u001b[0m     \u001b[0mmodels\u001b[0m\u001b[0;34m[\u001b[0m\u001b[0mtable\u001b[0m\u001b[0;34m]\u001b[0m \u001b[0;34m=\u001b[0m \u001b[0;34m{\u001b[0m\u001b[0;34m'model'\u001b[0m\u001b[0;34m:\u001b[0m \u001b[0mmodel\u001b[0m\u001b[0;34m,\u001b[0m \u001b[0;34m'data'\u001b[0m\u001b[0;34m:\u001b[0m \u001b[0mdata\u001b[0m\u001b[0;34m}\u001b[0m\u001b[0;34m\u001b[0m\u001b[0;34m\u001b[0m\u001b[0m\n",
      "\u001b[0;32m<ipython-input-147-76ef3a8b9bf5>\u001b[0m in \u001b[0;36mmake_predictions\u001b[0;34m(df)\u001b[0m\n\u001b[1;32m      5\u001b[0m     \u001b[0mfdf\u001b[0m \u001b[0;34m=\u001b[0m \u001b[0mpd\u001b[0m\u001b[0;34m.\u001b[0m\u001b[0mDataFrame\u001b[0m\u001b[0;34m(\u001b[0m\u001b[0;34m{\u001b[0m\u001b[0;34m'ds'\u001b[0m\u001b[0;34m:\u001b[0m \u001b[0mdf\u001b[0m\u001b[0;34m.\u001b[0m\u001b[0mds\u001b[0m\u001b[0;34m.\u001b[0m\u001b[0mround\u001b[0m\u001b[0;34m(\u001b[0m\u001b[0;34m's'\u001b[0m\u001b[0;34m)\u001b[0m\u001b[0;34m,\u001b[0m \u001b[0;34m'y'\u001b[0m\u001b[0;34m:\u001b[0m \u001b[0mdf\u001b[0m\u001b[0;34m.\u001b[0m\u001b[0mpg_table_size\u001b[0m \u001b[0;34m-\u001b[0m \u001b[0mdf\u001b[0m\u001b[0;34m.\u001b[0m\u001b[0mpg_table_size\u001b[0m\u001b[0;34m.\u001b[0m\u001b[0mmin\u001b[0m\u001b[0;34m(\u001b[0m\u001b[0;34m)\u001b[0m\u001b[0;34m}\u001b[0m\u001b[0;34m)\u001b[0m\u001b[0;34m\u001b[0m\u001b[0;34m\u001b[0m\u001b[0m\n\u001b[1;32m      6\u001b[0m     \u001b[0mm\u001b[0m \u001b[0;34m=\u001b[0m \u001b[0mNeuralProphet\u001b[0m\u001b[0;34m(\u001b[0m\u001b[0;34m)\u001b[0m\u001b[0;34m\u001b[0m\u001b[0;34m\u001b[0m\u001b[0m\n\u001b[0;32m----> 7\u001b[0;31m     \u001b[0mmetrics\u001b[0m \u001b[0;34m=\u001b[0m \u001b[0mm\u001b[0m\u001b[0;34m.\u001b[0m\u001b[0mfit\u001b[0m\u001b[0;34m(\u001b[0m\u001b[0mfdf\u001b[0m\u001b[0;34m[\u001b[0m\u001b[0;34m:\u001b[0m\u001b[0mfdf\u001b[0m\u001b[0;34m.\u001b[0m\u001b[0mshape\u001b[0m\u001b[0;34m[\u001b[0m\u001b[0;36m0\u001b[0m\u001b[0;34m]\u001b[0m\u001b[0;34m//\u001b[0m\u001b[0;36m2\u001b[0m\u001b[0;34m]\u001b[0m\u001b[0;34m,\u001b[0m \u001b[0mfreq\u001b[0m\u001b[0;34m=\u001b[0m\u001b[0;34m\"s\"\u001b[0m\u001b[0;34m)\u001b[0m\u001b[0;34m\u001b[0m\u001b[0;34m\u001b[0m\u001b[0m\n\u001b[0m\u001b[1;32m      8\u001b[0m \u001b[0;31m#     forecast = m.predict(fdf)\u001b[0m\u001b[0;34m\u001b[0m\u001b[0;34m\u001b[0m\u001b[0;34m\u001b[0m\u001b[0m\n\u001b[1;32m      9\u001b[0m \u001b[0;31m#     forecast.plot()\u001b[0m\u001b[0;34m\u001b[0m\u001b[0;34m\u001b[0m\u001b[0;34m\u001b[0m\u001b[0m\n",
      "\u001b[0;32m/mnt/d/Projects/cmu/11637/11637Env/lib/python3.8/site-packages/neuralprophet/forecaster.py\u001b[0m in \u001b[0;36mfit\u001b[0;34m(self, df, freq, validation_df, progress, minimal)\u001b[0m\n\u001b[1;32m    590\u001b[0m                 \u001b[0mmetrics_df\u001b[0m \u001b[0;34m=\u001b[0m \u001b[0;32mNone\u001b[0m\u001b[0;34m\u001b[0m\u001b[0;34m\u001b[0m\u001b[0m\n\u001b[1;32m    591\u001b[0m             \u001b[0;32melse\u001b[0m\u001b[0;34m:\u001b[0m\u001b[0;34m\u001b[0m\u001b[0;34m\u001b[0m\u001b[0m\n\u001b[0;32m--> 592\u001b[0;31m                 \u001b[0mmetrics_df\u001b[0m \u001b[0;34m=\u001b[0m \u001b[0mself\u001b[0m\u001b[0;34m.\u001b[0m\u001b[0m_train\u001b[0m\u001b[0;34m(\u001b[0m\u001b[0mdf_dict\u001b[0m\u001b[0;34m,\u001b[0m \u001b[0mprogress\u001b[0m\u001b[0;34m=\u001b[0m\u001b[0mprogress\u001b[0m\u001b[0;34m)\u001b[0m\u001b[0;34m\u001b[0m\u001b[0;34m\u001b[0m\u001b[0m\n\u001b[0m\u001b[1;32m    593\u001b[0m         \u001b[0;32melse\u001b[0m\u001b[0;34m:\u001b[0m\u001b[0;34m\u001b[0m\u001b[0;34m\u001b[0m\u001b[0m\n\u001b[1;32m    594\u001b[0m             \u001b[0mdf_val_dict\u001b[0m\u001b[0;34m,\u001b[0m \u001b[0m_\u001b[0m \u001b[0;34m=\u001b[0m \u001b[0mdf_utils\u001b[0m\u001b[0;34m.\u001b[0m\u001b[0mprep_copy_df_dict\u001b[0m\u001b[0;34m(\u001b[0m\u001b[0mvalidation_df\u001b[0m\u001b[0;34m)\u001b[0m\u001b[0;34m\u001b[0m\u001b[0;34m\u001b[0m\u001b[0m\n",
      "\u001b[0;32m/mnt/d/Projects/cmu/11637/11637Env/lib/python3.8/site-packages/neuralprophet/forecaster.py\u001b[0m in \u001b[0;36m_train\u001b[0;34m(self, df_dict, df_val_dict, progress)\u001b[0m\n\u001b[1;32m   1804\u001b[0m \u001b[0;34m\u001b[0m\u001b[0m\n\u001b[1;32m   1805\u001b[0m         \u001b[0;31m# set up data loader\u001b[0m\u001b[0;34m\u001b[0m\u001b[0;34m\u001b[0m\u001b[0;34m\u001b[0m\u001b[0m\n\u001b[0;32m-> 1806\u001b[0;31m         \u001b[0mloader\u001b[0m \u001b[0;34m=\u001b[0m \u001b[0mself\u001b[0m\u001b[0;34m.\u001b[0m\u001b[0m_init_train_loader\u001b[0m\u001b[0;34m(\u001b[0m\u001b[0mdf_dict\u001b[0m\u001b[0;34m)\u001b[0m\u001b[0;34m\u001b[0m\u001b[0;34m\u001b[0m\u001b[0m\n\u001b[0m\u001b[1;32m   1807\u001b[0m         \u001b[0;31m# set up Metrics\u001b[0m\u001b[0;34m\u001b[0m\u001b[0;34m\u001b[0m\u001b[0;34m\u001b[0m\u001b[0m\n\u001b[1;32m   1808\u001b[0m         \u001b[0;32mif\u001b[0m \u001b[0mself\u001b[0m\u001b[0;34m.\u001b[0m\u001b[0mhighlight_forecast_step_n\u001b[0m \u001b[0;32mis\u001b[0m \u001b[0;32mnot\u001b[0m \u001b[0;32mNone\u001b[0m\u001b[0;34m:\u001b[0m\u001b[0;34m\u001b[0m\u001b[0;34m\u001b[0m\u001b[0m\n",
      "\u001b[0;32m/mnt/d/Projects/cmu/11637/11637Env/lib/python3.8/site-packages/neuralprophet/forecaster.py\u001b[0m in \u001b[0;36m_init_train_loader\u001b[0;34m(self, df_dict)\u001b[0m\n\u001b[1;32m   1570\u001b[0m             \u001b[0;32mraise\u001b[0m \u001b[0mValueError\u001b[0m\u001b[0;34m(\u001b[0m\u001b[0;34m\"df_dict must be a dict of pd.DataFrames.\"\u001b[0m\u001b[0;34m)\u001b[0m\u001b[0;34m\u001b[0m\u001b[0;34m\u001b[0m\u001b[0m\n\u001b[1;32m   1571\u001b[0m         \u001b[0;31m# if not self.fitted:\u001b[0m\u001b[0;34m\u001b[0m\u001b[0;34m\u001b[0m\u001b[0;34m\u001b[0m\u001b[0m\n\u001b[0;32m-> 1572\u001b[0;31m         self.config_normalization.init_data_params(\n\u001b[0m\u001b[1;32m   1573\u001b[0m             \u001b[0mdf_dict\u001b[0m\u001b[0;34m=\u001b[0m\u001b[0mdf_dict\u001b[0m\u001b[0;34m,\u001b[0m\u001b[0;34m\u001b[0m\u001b[0;34m\u001b[0m\u001b[0m\n\u001b[1;32m   1574\u001b[0m             \u001b[0mcovariates_config\u001b[0m\u001b[0;34m=\u001b[0m\u001b[0mself\u001b[0m\u001b[0;34m.\u001b[0m\u001b[0mconfig_covar\u001b[0m\u001b[0;34m,\u001b[0m\u001b[0;34m\u001b[0m\u001b[0;34m\u001b[0m\u001b[0m\n",
      "\u001b[0;32m/mnt/d/Projects/cmu/11637/11637Env/lib/python3.8/site-packages/neuralprophet/configure.py\u001b[0m in \u001b[0;36minit_data_params\u001b[0;34m(self, df_dict, covariates_config, regressor_config, events_config)\u001b[0m\n\u001b[1;32m     39\u001b[0m                 \u001b[0mlog\u001b[0m\u001b[0;34m.\u001b[0m\u001b[0minfo\u001b[0m\u001b[0;34m(\u001b[0m\u001b[0;34m\"Setting normalization to global as only one dataframe provided for training.\"\u001b[0m\u001b[0;34m)\u001b[0m\u001b[0;34m\u001b[0m\u001b[0;34m\u001b[0m\u001b[0m\n\u001b[1;32m     40\u001b[0m                 \u001b[0mself\u001b[0m\u001b[0;34m.\u001b[0m\u001b[0mglobal_normalization\u001b[0m \u001b[0;34m=\u001b[0m \u001b[0;32mTrue\u001b[0m\u001b[0;34m\u001b[0m\u001b[0;34m\u001b[0m\u001b[0m\n\u001b[0;32m---> 41\u001b[0;31m         self.local_data_params, self.global_data_params = df_utils.init_data_params(\n\u001b[0m\u001b[1;32m     42\u001b[0m             \u001b[0mdf_dict\u001b[0m\u001b[0;34m=\u001b[0m\u001b[0mdf_dict\u001b[0m\u001b[0;34m,\u001b[0m\u001b[0;34m\u001b[0m\u001b[0;34m\u001b[0m\u001b[0m\n\u001b[1;32m     43\u001b[0m             \u001b[0mnormalize\u001b[0m\u001b[0;34m=\u001b[0m\u001b[0mself\u001b[0m\u001b[0;34m.\u001b[0m\u001b[0mnormalize\u001b[0m\u001b[0;34m,\u001b[0m\u001b[0;34m\u001b[0m\u001b[0;34m\u001b[0m\u001b[0m\n",
      "\u001b[0;32m/mnt/d/Projects/cmu/11637/11637Env/lib/python3.8/site-packages/neuralprophet/df_utils.py\u001b[0m in \u001b[0;36minit_data_params\u001b[0;34m(df_dict, normalize, covariates_config, regressor_config, events_config, global_normalization, global_time_normalization)\u001b[0m\n\u001b[1;32m    258\u001b[0m     \u001b[0;31m# Compute Global data params\u001b[0m\u001b[0;34m\u001b[0m\u001b[0;34m\u001b[0m\u001b[0;34m\u001b[0m\u001b[0m\n\u001b[1;32m    259\u001b[0m     \u001b[0mdf_merged\u001b[0m\u001b[0;34m,\u001b[0m \u001b[0m_\u001b[0m \u001b[0;34m=\u001b[0m \u001b[0mjoin_dataframes\u001b[0m\u001b[0;34m(\u001b[0m\u001b[0mprep_copy_df_dict\u001b[0m\u001b[0;34m(\u001b[0m\u001b[0mdf_dict\u001b[0m\u001b[0;34m)\u001b[0m\u001b[0;34m[\u001b[0m\u001b[0;36m0\u001b[0m\u001b[0;34m]\u001b[0m\u001b[0;34m)\u001b[0m\u001b[0;34m\u001b[0m\u001b[0;34m\u001b[0m\u001b[0m\n\u001b[0;32m--> 260\u001b[0;31m     global_data_params = data_params_definition(\n\u001b[0m\u001b[1;32m    261\u001b[0m         \u001b[0mdf_merged\u001b[0m\u001b[0;34m,\u001b[0m \u001b[0mnormalize\u001b[0m\u001b[0;34m,\u001b[0m \u001b[0mcovariates_config\u001b[0m\u001b[0;34m,\u001b[0m \u001b[0mregressor_config\u001b[0m\u001b[0;34m,\u001b[0m \u001b[0mevents_config\u001b[0m\u001b[0;34m\u001b[0m\u001b[0;34m\u001b[0m\u001b[0m\n\u001b[1;32m    262\u001b[0m     )\n",
      "\u001b[0;32m/mnt/d/Projects/cmu/11637/11637Env/lib/python3.8/site-packages/neuralprophet/df_utils.py\u001b[0m in \u001b[0;36mdata_params_definition\u001b[0;34m(df, normalize, covariates_config, regressor_config, events_config)\u001b[0m\n\u001b[1;32m    165\u001b[0m     )\n\u001b[1;32m    166\u001b[0m     \u001b[0;32mif\u001b[0m \u001b[0;34m\"y\"\u001b[0m \u001b[0;32min\u001b[0m \u001b[0mdf\u001b[0m\u001b[0;34m:\u001b[0m\u001b[0;34m\u001b[0m\u001b[0;34m\u001b[0m\u001b[0m\n\u001b[0;32m--> 167\u001b[0;31m         data_params[\"y\"] = get_normalization_params(\n\u001b[0m\u001b[1;32m    168\u001b[0m             \u001b[0marray\u001b[0m\u001b[0;34m=\u001b[0m\u001b[0mdf\u001b[0m\u001b[0;34m[\u001b[0m\u001b[0;34m\"y\"\u001b[0m\u001b[0;34m]\u001b[0m\u001b[0;34m.\u001b[0m\u001b[0mvalues\u001b[0m\u001b[0;34m,\u001b[0m\u001b[0;34m\u001b[0m\u001b[0;34m\u001b[0m\u001b[0m\n\u001b[1;32m    169\u001b[0m             \u001b[0mnorm_type\u001b[0m\u001b[0;34m=\u001b[0m\u001b[0mnormalize\u001b[0m\u001b[0;34m,\u001b[0m\u001b[0;34m\u001b[0m\u001b[0;34m\u001b[0m\u001b[0m\n",
      "\u001b[0;32m/mnt/d/Projects/cmu/11637/11637Env/lib/python3.8/site-packages/neuralprophet/df_utils.py\u001b[0m in \u001b[0;36mget_normalization_params\u001b[0;34m(array, norm_type)\u001b[0m\n\u001b[1;32m    298\u001b[0m \u001b[0;32mdef\u001b[0m \u001b[0mget_normalization_params\u001b[0m\u001b[0;34m(\u001b[0m\u001b[0marray\u001b[0m\u001b[0;34m,\u001b[0m \u001b[0mnorm_type\u001b[0m\u001b[0;34m)\u001b[0m\u001b[0;34m:\u001b[0m\u001b[0;34m\u001b[0m\u001b[0;34m\u001b[0m\u001b[0m\n\u001b[1;32m    299\u001b[0m     \u001b[0;32mif\u001b[0m \u001b[0mnorm_type\u001b[0m \u001b[0;34m==\u001b[0m \u001b[0;34m\"auto\"\u001b[0m\u001b[0;34m:\u001b[0m\u001b[0;34m\u001b[0m\u001b[0;34m\u001b[0m\u001b[0m\n\u001b[0;32m--> 300\u001b[0;31m         \u001b[0mnorm_type\u001b[0m \u001b[0;34m=\u001b[0m \u001b[0mauto_normalization_setting\u001b[0m\u001b[0;34m(\u001b[0m\u001b[0marray\u001b[0m\u001b[0;34m)\u001b[0m\u001b[0;34m\u001b[0m\u001b[0;34m\u001b[0m\u001b[0m\n\u001b[0m\u001b[1;32m    301\u001b[0m     \u001b[0mshift\u001b[0m \u001b[0;34m=\u001b[0m \u001b[0;36m0.0\u001b[0m\u001b[0;34m\u001b[0m\u001b[0;34m\u001b[0m\u001b[0m\n\u001b[1;32m    302\u001b[0m     \u001b[0mscale\u001b[0m \u001b[0;34m=\u001b[0m \u001b[0;36m1.0\u001b[0m\u001b[0;34m\u001b[0m\u001b[0;34m\u001b[0m\u001b[0m\n",
      "\u001b[0;32m/mnt/d/Projects/cmu/11637/11637Env/lib/python3.8/site-packages/neuralprophet/df_utils.py\u001b[0m in \u001b[0;36mauto_normalization_setting\u001b[0;34m(array)\u001b[0m\n\u001b[1;32m    288\u001b[0m     \u001b[0;32mif\u001b[0m \u001b[0mlen\u001b[0m\u001b[0;34m(\u001b[0m\u001b[0mnp\u001b[0m\u001b[0;34m.\u001b[0m\u001b[0munique\u001b[0m\u001b[0;34m(\u001b[0m\u001b[0marray\u001b[0m\u001b[0;34m)\u001b[0m\u001b[0;34m)\u001b[0m \u001b[0;34m<\u001b[0m \u001b[0;36m2\u001b[0m\u001b[0;34m:\u001b[0m\u001b[0;34m\u001b[0m\u001b[0;34m\u001b[0m\u001b[0m\n\u001b[1;32m    289\u001b[0m         \u001b[0mlog\u001b[0m\u001b[0;34m.\u001b[0m\u001b[0merror\u001b[0m\u001b[0;34m(\u001b[0m\u001b[0;34m\"encountered variable with one unique value\"\u001b[0m\u001b[0;34m)\u001b[0m\u001b[0;34m\u001b[0m\u001b[0;34m\u001b[0m\u001b[0m\n\u001b[0;32m--> 290\u001b[0;31m         \u001b[0;32mraise\u001b[0m \u001b[0mValueError\u001b[0m\u001b[0;34m\u001b[0m\u001b[0;34m\u001b[0m\u001b[0m\n\u001b[0m\u001b[1;32m    291\u001b[0m     \u001b[0;31m# elif set(series.unique()) in ({True, False}, {1, 0}, {1.0, 0.0}, {-1, 1}, {-1.0, 1.0}):\u001b[0m\u001b[0;34m\u001b[0m\u001b[0;34m\u001b[0m\u001b[0;34m\u001b[0m\u001b[0m\n\u001b[1;32m    292\u001b[0m     \u001b[0;32melif\u001b[0m \u001b[0mlen\u001b[0m\u001b[0;34m(\u001b[0m\u001b[0mnp\u001b[0m\u001b[0;34m.\u001b[0m\u001b[0munique\u001b[0m\u001b[0;34m(\u001b[0m\u001b[0marray\u001b[0m\u001b[0;34m)\u001b[0m\u001b[0;34m)\u001b[0m \u001b[0;34m==\u001b[0m \u001b[0;36m2\u001b[0m\u001b[0;34m:\u001b[0m\u001b[0;34m\u001b[0m\u001b[0;34m\u001b[0m\u001b[0m\n",
      "\u001b[0;31mValueError\u001b[0m: "
     ]
    }
   ],
   "source": [
    "for table in df.table_name.unique():\n",
    "    print(table)\n",
    "    if table in ['public.item', 'public.warehouse']:\n",
    "        continue\n",
    "    model, data = make_predictions(df[df.table_name == table].copy())\n",
    "    models[table] = {'model': model, 'data': data}"
   ]
  },
  {
   "cell_type": "code",
   "execution_count": 154,
   "metadata": {},
   "outputs": [
    {
     "name": "stderr",
     "output_type": "stream",
     "text": [
      "INFO - (NP.df_utils._infer_frequency) - Major frequency S corresponds to 99.302% of the data.\n",
      "INFO - (NP.df_utils._infer_frequency) - Defined frequency is equal to major frequency - s\n",
      "INFO - (NP.df_utils._infer_frequency) - Major frequency S corresponds to 99.302% of the data.\n",
      "INFO - (NP.df_utils._infer_frequency) - Defined frequency is equal to major frequency - s\n",
      "INFO - (NP.df_utils._infer_frequency) - Major frequency S corresponds to 99.302% of the data.\n",
      "INFO - (NP.df_utils._infer_frequency) - Defined frequency is equal to major frequency - s\n",
      "INFO - (NP.df_utils._infer_frequency) - Major frequency S corresponds to 99.302% of the data.\n",
      "INFO - (NP.df_utils._infer_frequency) - Defined frequency is equal to major frequency - s\n"
     ]
    },
    {
     "name": "stdout",
     "output_type": "stream",
     "text": [
      "public.customer\n",
      "public.district\n"
     ]
    },
    {
     "name": "stderr",
     "output_type": "stream",
     "text": [
      "INFO - (NP.df_utils._infer_frequency) - Major frequency S corresponds to 99.302% of the data.\n",
      "INFO - (NP.df_utils._infer_frequency) - Defined frequency is equal to major frequency - s\n",
      "INFO - (NP.df_utils._infer_frequency) - Major frequency S corresponds to 99.302% of the data.\n",
      "INFO - (NP.df_utils._infer_frequency) - Defined frequency is equal to major frequency - s\n",
      "INFO - (NP.df_utils._infer_frequency) - Major frequency S corresponds to 99.302% of the data.\n",
      "INFO - (NP.df_utils._infer_frequency) - Defined frequency is equal to major frequency - s\n",
      "INFO - (NP.df_utils._infer_frequency) - Major frequency S corresponds to 99.302% of the data.\n",
      "INFO - (NP.df_utils._infer_frequency) - Defined frequency is equal to major frequency - s\n",
      "INFO - (NP.df_utils._infer_frequency) - Major frequency S corresponds to 99.302% of the data.\n",
      "INFO - (NP.df_utils._infer_frequency) - Defined frequency is equal to major frequency - s\n",
      "INFO - (NP.df_utils._infer_frequency) - Major frequency S corresponds to 99.302% of the data.\n",
      "INFO - (NP.df_utils._infer_frequency) - Defined frequency is equal to major frequency - s\n"
     ]
    },
    {
     "name": "stdout",
     "output_type": "stream",
     "text": [
      "public.history\n",
      "public.new_order\n",
      "public.oorder\n"
     ]
    },
    {
     "name": "stderr",
     "output_type": "stream",
     "text": [
      "INFO - (NP.df_utils._infer_frequency) - Major frequency S corresponds to 99.302% of the data.\n",
      "INFO - (NP.df_utils._infer_frequency) - Defined frequency is equal to major frequency - s\n",
      "INFO - (NP.df_utils._infer_frequency) - Major frequency S corresponds to 99.302% of the data.\n",
      "INFO - (NP.df_utils._infer_frequency) - Defined frequency is equal to major frequency - s\n",
      "INFO - (NP.df_utils._infer_frequency) - Major frequency S corresponds to 99.301% of the data.\n",
      "INFO - (NP.df_utils._infer_frequency) - Defined frequency is equal to major frequency - s\n",
      "INFO - (NP.df_utils._infer_frequency) - Major frequency S corresponds to 99.301% of the data.\n",
      "INFO - (NP.df_utils._infer_frequency) - Defined frequency is equal to major frequency - s\n"
     ]
    },
    {
     "name": "stdout",
     "output_type": "stream",
     "text": [
      "public.order_line\n",
      "public.stock\n"
     ]
    },
    {
     "data": {
      "image/png": "[encoded data removed]",
      "text/plain": [
       "<Figure size 432x288 with 1 Axes>"
      ]
     },
     "metadata": {
      "needs_background": "light"
     },
     "output_type": "display_data"
    },
    {
     "data": {
      "image/png": "[encoded data removed]",
      "text/plain": [
       "<Figure size 432x288 with 1 Axes>"
      ]
     },
     "metadata": {
      "needs_background": "light"
     },
     "output_type": "display_data"
    },
    {
     "data": {
      "image/png": "[encoded data removed]",
      "text/plain": [
       "<Figure size 432x288 with 1 Axes>"
      ]
     },
     "metadata": {
      "needs_background": "light"
     },
     "output_type": "display_data"
    },
    {
     "data": {
      "image/png": "[encoded data removed]",
      "text/plain": [
       "<Figure size 432x288 with 1 Axes>"
      ]
     },
     "metadata": {
      "needs_background": "light"
     },
     "output_type": "display_data"
    },
    {
     "data": {
      "image/png": "[encoded data removed]",
      "text/plain": [
       "<Figure size 432x288 with 1 Axes>"
      ]
     },
     "metadata": {
      "needs_background": "light"
     },
     "output_type": "display_data"
    },
    {
     "data": {
      "image/png": "[encoded data removed]",
      "text/plain": [
       "<Figure size 432x288 with 1 Axes>"
      ]
     },
     "metadata": {
      "needs_background": "light"
     },
     "output_type": "display_data"
    },
    {
     "data": {
      "image/png": "[encoded data removed]",
      "text/plain": [
       "<Figure size 432x288 with 1 Axes>"
      ]
     },
     "metadata": {
      "needs_background": "light"
     },
     "output_type": "display_data"
    }
   ],
   "source": [
    "for table, mod in models.items():\n",
    "    print(table)\n",
    "    forecast = mod['model'].predict(mod['data'])\n",
    "    plt = forecast.plot()\n",
    "#     plt.show()"
   ]
  }
 ],
 "metadata": {
  "kernelspec": {
   "display_name": "Python 3",
   "language": "python",
   "name": "python3"
  },
  "language_info": {
   "codemirror_mode": {
    "name": "ipython",
    "version": 3
   },
   "file_extension": ".py",
   "mimetype": "text/x-python",
   "name": "python",
   "nbconvert_exporter": "python",
   "pygments_lexer": "ipython3",
   "version": "3.8.12"
  }
 },
 "nbformat": 4,
 "nbformat_minor": 1
}
