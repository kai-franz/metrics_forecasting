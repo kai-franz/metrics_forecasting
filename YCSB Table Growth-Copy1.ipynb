{
 "cells": [
  {
   "cell_type": "code",
   "execution_count": 1,
   "metadata": {},
   "outputs": [],
   "source": [
    "import pandas as pd\n",
    "import os"
   ]
  },
  {
   "cell_type": "code",
   "execution_count": 2,
   "metadata": {},
   "outputs": [],
   "source": [
    "import seaborn as sns"
   ]
  },
  {
   "cell_type": "code",
   "execution_count": 109,
   "metadata": {},
   "outputs": [],
   "source": [
    "data_dir = \"./data/\"\n",
    "dataset = './data/tuples/autovac/autovacon_ycsb_scale_50_worktime_3600_samplefreq_1_tsizeAnddeadtuple_pgconfig_delete_25_dead_tup_dtw.csv'"
   ]
  },
  {
   "cell_type": "code",
   "execution_count": 110,
   "metadata": {
    "pycharm": {
     "name": "#%%\n"
    }
   },
   "outputs": [],
   "source": [
    "df = pd.read_csv(dataset)"
   ]
  },
  {
   "cell_type": "code",
   "execution_count": 111,
   "metadata": {
    "scrolled": true
   },
   "outputs": [
    {
     "data": {
      "text/html": [
       "<div>\n",
       "<style scoped>\n",
       "    .dataframe tbody tr th:only-of-type {\n",
       "        vertical-align: middle;\n",
       "    }\n",
       "\n",
       "    .dataframe tbody tr th {\n",
       "        vertical-align: top;\n",
       "    }\n",
       "\n",
       "    .dataframe thead th {\n",
       "        text-align: right;\n",
       "    }\n",
       "</style>\n",
       "<table border=\"1\" class=\"dataframe\">\n",
       "  <thead>\n",
       "    <tr style=\"text-align: right;\">\n",
       "      <th></th>\n",
       "      <th>ds</th>\n",
       "      <th>table_name</th>\n",
       "      <th>pg_stat_get_live_tuples</th>\n",
       "      <th>pg_stat_get_dead_tuples</th>\n",
       "      <th>pg_table_size</th>\n",
       "      <th>relid</th>\n",
       "      <th>schemaname</th>\n",
       "      <th>relname</th>\n",
       "      <th>seq_scan</th>\n",
       "      <th>seq_tup_read</th>\n",
       "      <th>...</th>\n",
       "      <th>n_mod_since_analyze</th>\n",
       "      <th>n_ins_since_vacuum</th>\n",
       "      <th>last_vacuum</th>\n",
       "      <th>last_autovacuum</th>\n",
       "      <th>last_analyze</th>\n",
       "      <th>last_autoanalyze</th>\n",
       "      <th>vacuum_count</th>\n",
       "      <th>autovacuum_count</th>\n",
       "      <th>analyze_count</th>\n",
       "      <th>autoanalyze_count</th>\n",
       "    </tr>\n",
       "  </thead>\n",
       "  <tbody>\n",
       "    <tr>\n",
       "      <th>0</th>\n",
       "      <td>1.650448e+09</td>\n",
       "      <td>public.usertable</td>\n",
       "      <td>50000</td>\n",
       "      <td>0</td>\n",
       "      <td>58556416</td>\n",
       "      <td>16943</td>\n",
       "      <td>public</td>\n",
       "      <td>usertable</td>\n",
       "      <td>1</td>\n",
       "      <td>0</td>\n",
       "      <td>...</td>\n",
       "      <td>50000</td>\n",
       "      <td>50000</td>\n",
       "      <td>NaN</td>\n",
       "      <td>NaN</td>\n",
       "      <td>NaN</td>\n",
       "      <td>NaN</td>\n",
       "      <td>0</td>\n",
       "      <td>0</td>\n",
       "      <td>0</td>\n",
       "      <td>0</td>\n",
       "    </tr>\n",
       "    <tr>\n",
       "      <th>1</th>\n",
       "      <td>1.650448e+09</td>\n",
       "      <td>public.usertable</td>\n",
       "      <td>50000</td>\n",
       "      <td>0</td>\n",
       "      <td>58638336</td>\n",
       "      <td>16943</td>\n",
       "      <td>public</td>\n",
       "      <td>usertable</td>\n",
       "      <td>1</td>\n",
       "      <td>0</td>\n",
       "      <td>...</td>\n",
       "      <td>50000</td>\n",
       "      <td>50000</td>\n",
       "      <td>NaN</td>\n",
       "      <td>NaN</td>\n",
       "      <td>NaN</td>\n",
       "      <td>NaN</td>\n",
       "      <td>0</td>\n",
       "      <td>0</td>\n",
       "      <td>0</td>\n",
       "      <td>0</td>\n",
       "    </tr>\n",
       "    <tr>\n",
       "      <th>2</th>\n",
       "      <td>1.650448e+09</td>\n",
       "      <td>public.usertable</td>\n",
       "      <td>49963</td>\n",
       "      <td>398</td>\n",
       "      <td>59097088</td>\n",
       "      <td>16943</td>\n",
       "      <td>public</td>\n",
       "      <td>usertable</td>\n",
       "      <td>1</td>\n",
       "      <td>0</td>\n",
       "      <td>...</td>\n",
       "      <td>50530</td>\n",
       "      <td>50097</td>\n",
       "      <td>NaN</td>\n",
       "      <td>NaN</td>\n",
       "      <td>NaN</td>\n",
       "      <td>NaN</td>\n",
       "      <td>0</td>\n",
       "      <td>0</td>\n",
       "      <td>0</td>\n",
       "      <td>0</td>\n",
       "    </tr>\n",
       "    <tr>\n",
       "      <th>3</th>\n",
       "      <td>1.650448e+09</td>\n",
       "      <td>public.usertable</td>\n",
       "      <td>49923</td>\n",
       "      <td>894</td>\n",
       "      <td>59588608</td>\n",
       "      <td>16943</td>\n",
       "      <td>public</td>\n",
       "      <td>usertable</td>\n",
       "      <td>1</td>\n",
       "      <td>0</td>\n",
       "      <td>...</td>\n",
       "      <td>51207</td>\n",
       "      <td>50238</td>\n",
       "      <td>NaN</td>\n",
       "      <td>NaN</td>\n",
       "      <td>NaN</td>\n",
       "      <td>NaN</td>\n",
       "      <td>0</td>\n",
       "      <td>0</td>\n",
       "      <td>0</td>\n",
       "      <td>0</td>\n",
       "    </tr>\n",
       "    <tr>\n",
       "      <th>4</th>\n",
       "      <td>1.650448e+09</td>\n",
       "      <td>public.usertable</td>\n",
       "      <td>49894</td>\n",
       "      <td>1395</td>\n",
       "      <td>60112896</td>\n",
       "      <td>16943</td>\n",
       "      <td>public</td>\n",
       "      <td>usertable</td>\n",
       "      <td>1</td>\n",
       "      <td>0</td>\n",
       "      <td>...</td>\n",
       "      <td>51912</td>\n",
       "      <td>50396</td>\n",
       "      <td>NaN</td>\n",
       "      <td>NaN</td>\n",
       "      <td>NaN</td>\n",
       "      <td>NaN</td>\n",
       "      <td>0</td>\n",
       "      <td>0</td>\n",
       "      <td>0</td>\n",
       "      <td>0</td>\n",
       "    </tr>\n",
       "  </tbody>\n",
       "</table>\n",
       "<p>5 rows × 28 columns</p>\n",
       "</div>"
      ],
      "text/plain": [
       "             ds        table_name  pg_stat_get_live_tuples  \\\n",
       "0  1.650448e+09  public.usertable                    50000   \n",
       "1  1.650448e+09  public.usertable                    50000   \n",
       "2  1.650448e+09  public.usertable                    49963   \n",
       "3  1.650448e+09  public.usertable                    49923   \n",
       "4  1.650448e+09  public.usertable                    49894   \n",
       "\n",
       "   pg_stat_get_dead_tuples  pg_table_size  relid schemaname    relname  \\\n",
       "0                        0       58556416  16943     public  usertable   \n",
       "1                        0       58638336  16943     public  usertable   \n",
       "2                      398       59097088  16943     public  usertable   \n",
       "3                      894       59588608  16943     public  usertable   \n",
       "4                     1395       60112896  16943     public  usertable   \n",
       "\n",
       "   seq_scan  seq_tup_read  ...  n_mod_since_analyze  n_ins_since_vacuum  \\\n",
       "0         1             0  ...                50000               50000   \n",
       "1         1             0  ...                50000               50000   \n",
       "2         1             0  ...                50530               50097   \n",
       "3         1             0  ...                51207               50238   \n",
       "4         1             0  ...                51912               50396   \n",
       "\n",
       "   last_vacuum  last_autovacuum  last_analyze  last_autoanalyze  vacuum_count  \\\n",
       "0          NaN              NaN           NaN               NaN             0   \n",
       "1          NaN              NaN           NaN               NaN             0   \n",
       "2          NaN              NaN           NaN               NaN             0   \n",
       "3          NaN              NaN           NaN               NaN             0   \n",
       "4          NaN              NaN           NaN               NaN             0   \n",
       "\n",
       "   autovacuum_count  analyze_count  autoanalyze_count  \n",
       "0                 0              0                  0  \n",
       "1                 0              0                  0  \n",
       "2                 0              0                  0  \n",
       "3                 0              0                  0  \n",
       "4                 0              0                  0  \n",
       "\n",
       "[5 rows x 28 columns]"
      ]
     },
     "execution_count": 111,
     "metadata": {},
     "output_type": "execute_result"
    }
   ],
   "source": [
    "df.head()"
   ]
  },
  {
   "cell_type": "code",
   "execution_count": 112,
   "metadata": {},
   "outputs": [
    {
     "data": {
      "text/plain": [
       "array(['public.usertable'], dtype=object)"
      ]
     },
     "execution_count": 112,
     "metadata": {},
     "output_type": "execute_result"
    }
   ],
   "source": [
    "df.table_name.unique()"
   ]
  },
  {
   "cell_type": "code",
   "execution_count": 113,
   "metadata": {},
   "outputs": [
    {
     "data": {
      "text/plain": [
       "Index(['ds', 'table_name', 'pg_stat_get_live_tuples',\n",
       "       'pg_stat_get_dead_tuples', 'pg_table_size', 'relid', 'schemaname',\n",
       "       'relname', 'seq_scan', 'seq_tup_read', 'idx_scan', 'idx_tup_fetch',\n",
       "       'n_tup_ins', 'n_tup_upd', 'n_tup_del', 'n_tup_hot_upd', 'n_live_tup',\n",
       "       'n_dead_tup', 'n_mod_since_analyze', 'n_ins_since_vacuum',\n",
       "       'last_vacuum', 'last_autovacuum', 'last_analyze', 'last_autoanalyze',\n",
       "       'vacuum_count', 'autovacuum_count', 'analyze_count',\n",
       "       'autoanalyze_count'],\n",
       "      dtype='object')"
      ]
     },
     "execution_count": 113,
     "metadata": {},
     "output_type": "execute_result"
    }
   ],
   "source": [
    "df.columns"
   ]
  },
  {
   "cell_type": "code",
   "execution_count": 114,
   "metadata": {},
   "outputs": [],
   "source": [
    "df['ds'] = df['ds']-df['ds'].min()\n",
    "df['ds'] = pd.to_datetime(df['ds'], unit='s')"
   ]
  },
  {
   "cell_type": "code",
   "execution_count": 115,
   "metadata": {},
   "outputs": [],
   "source": [
    "def plot_growth(df, col):\n",
    "    return sns.lineplot(data=df, x='ds', y=col, hue='table_name')"
   ]
  },
  {
   "cell_type": "code",
   "execution_count": 116,
   "metadata": {},
   "outputs": [
    {
     "data": {
      "text/plain": [
       "<AxesSubplot:xlabel='ds', ylabel='n_dead_tup'>"
      ]
     },
     "execution_count": 116,
     "metadata": {},
     "output_type": "execute_result"
    },
    {
     "data": {
      "image/png": "[encoded data removed]",
      "text/plain": [
       "<Figure size 432x288 with 1 Axes>"
      ]
     },
     "metadata": {
      "needs_background": "light"
     },
     "output_type": "display_data"
    }
   ],
   "source": [
    "# g = sns.FacetGrid(df, row='table_name', sharey=False, sharex=False)\n",
    "# g.map(sns.lineplot, \"ds\", \"n_dead_tup\")\n",
    "sns.lineplot(data=df, x='ds', y='n_dead_tup', hue='table_name')"
   ]
  },
  {
   "cell_type": "code",
   "execution_count": null,
   "metadata": {},
   "outputs": [],
   "source": [
    "sns.lineplot()"
   ]
  },
  {
   "cell_type": "code",
   "execution_count": 90,
   "metadata": {},
   "outputs": [
    {
     "data": {
      "text/plain": [
       "<seaborn.axisgrid.FacetGrid at 0x7f74b74f31f0>"
      ]
     },
     "execution_count": 90,
     "metadata": {},
     "output_type": "execute_result"
    },
    {
     "data": {
      "image/png": "[encoded data removed]",
      "text/plain": [
       "<Figure size 216x216 with 1 Axes>"
      ]
     },
     "metadata": {
      "needs_background": "light"
     },
     "output_type": "display_data"
    }
   ],
   "source": [
    "g2 = sns.FacetGrid(df, row='table_name', sharey=False)\n",
    "g2.map(sns.lineplot, \"ds\", \"pg_table_size\")"
   ]
  },
  {
   "cell_type": "code",
   "execution_count": 55,
   "metadata": {
    "scrolled": false
   },
   "outputs": [
    {
     "data": {
      "text/plain": [
       "<AxesSubplot:>"
      ]
     },
     "execution_count": 55,
     "metadata": {},
     "output_type": "execute_result"
    },
    {
     "data": {
      "image/png": "[encoded data removed]",
      "text/plain": [
       "<Figure size 432x288 with 1 Axes>"
      ]
     },
     "metadata": {
      "needs_background": "light"
     },
     "output_type": "display_data"
    }
   ],
   "source": [
    "plot_growth(df[df['table_name'] == 'public.customer'].copy(), 'pg_table_size')"
   ]
  },
  {
   "cell_type": "code",
   "execution_count": 16,
   "metadata": {},
   "outputs": [
    {
     "data": {
      "text/plain": [
       "<AxesSubplot:>"
      ]
     },
     "execution_count": 16,
     "metadata": {},
     "output_type": "execute_result"
    },
    {
     "data": {
      "image/png": "[encoded data removed]",
      "text/plain": [
       "<Figure size 432x288 with 1 Axes>"
      ]
     },
     "metadata": {
      "needs_background": "light"
     },
     "output_type": "display_data"
    }
   ],
   "source": [
    "plot_growth(df[df['table_name'] == 'public.stock'].copy(), 'n_dead_tup')"
   ]
  },
  {
   "cell_type": "code",
   "execution_count": null,
   "metadata": {},
   "outputs": [],
   "source": [
    "from neuralprophet import NeuralProphet"
   ]
  }
 ],
 "metadata": {
  "kernelspec": {
   "display_name": "Python 3",
   "language": "python",
   "name": "python3"
  },
  "language_info": {
   "codemirror_mode": {
    "name": "ipython",
    "version": 3
   },
   "file_extension": ".py",
   "mimetype": "text/x-python",
   "name": "python",
   "nbconvert_exporter": "python",
   "pygments_lexer": "ipython3",
   "version": "3.8.12"
  }
 },
 "nbformat": 4,
 "nbformat_minor": 1
}
